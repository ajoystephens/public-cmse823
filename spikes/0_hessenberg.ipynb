{
 "cells": [
  {
   "cell_type": "markdown",
   "id": "888e1c0d-3a94-48bb-bb1a-f52a18cf03c0",
   "metadata": {},
   "source": [
    "First lets try to get to tridiagonal form using algorithm 26.1 from the text. This should result in tridiagonal for a hermitian matrix"
   ]
  },
  {
   "cell_type": "code",
   "execution_count": 1,
   "id": "b089b8c5-7f46-48a5-a099-6b8caa5f566b",
   "metadata": {},
   "outputs": [],
   "source": [
    "import numpy as np\n",
    "from numpy import linalg as LA"
   ]
  },
  {
   "cell_type": "code",
   "execution_count": 2,
   "id": "8e0b3691-fab1-4b04-80dd-661c75f8be84",
   "metadata": {},
   "outputs": [],
   "source": [
    "# following is based off from algorithm 26.1\n",
    "def hessenberg(matrix):\n",
    "    A=matrix.copy().astype(float)\n",
    "    m = A.shape[0]\n",
    "\n",
    "    for k in range(m-2):\n",
    "        x=A[k+1:m,k]\n",
    "        v = getSign(x[0])*np.linalg.norm(x,2)*getE1(x.shape[0]) + x\n",
    "        v = v/np.linalg.norm(v,2)\n",
    "\n",
    "        A[k+1:m,k:m]=A[k+1:m,k:m]-2*np.outer(v,np.matmul(v,A[k+1:m,k:m]))\n",
    "        A[0:m,k+1:m]=A[0:m,k+1:m]-2*np.outer(np.matmul(A[0:m,k+1:m],v.T),v)\n",
    "        \n",
    "    return(A.round(8))\n",
    "\n",
    "# function that returns an e1 vector of length m\n",
    "def getE1(m):\n",
    "    e1=np.zeros((m))\n",
    "    e1[0]=1\n",
    "    return(e1)\n",
    "\n",
    "# a sign function that checks and corrects for x=0 according to notes in book\n",
    "def getSign(x):\n",
    "    sign=np.sign(x)\n",
    "    if sign==0: sign=1\n",
    "    return(sign)\n",
    "\n",
    "\n"
   ]
  },
  {
   "cell_type": "code",
   "execution_count": 3,
   "id": "a5bfb69e-dd85-4801-89c5-8f692618b65a",
   "metadata": {},
   "outputs": [
    {
     "name": "stdout",
     "output_type": "stream",
     "text": [
      "[[ 1.         -5.38516481  0.          0.        ]\n",
      " [-5.38516481 22.48275862  2.76830198  0.        ]\n",
      " [ 0.          2.76830198  0.28558894  0.17797364]\n",
      " [ 0.          0.          0.17797364  0.23165244]]\n"
     ]
    }
   ],
   "source": [
    "A = np.array(\n",
    "    [[1,2,3,4],\n",
    "    [2,5,6,7],\n",
    "    [3,6,8,9],\n",
    "    [4,7,9,10]]\n",
    ")\n",
    "\n",
    "# A[0,0:A.shape[0]]\n",
    "H=hessenberg(A)\n",
    "# A.shape\n",
    "print(H)"
   ]
  },
  {
   "cell_type": "code",
   "execution_count": 4,
   "id": "f192b675-e6b5-409a-b76a-cfcfde36495d",
   "metadata": {},
   "outputs": [
    {
     "name": "stdout",
     "output_type": "stream",
     "text": [
      "[24.06253512 -0.80548492  0.5580362   0.18491359]\n",
      "[24.06253513 -0.80548492  0.5580362   0.18491359]\n"
     ]
    }
   ],
   "source": [
    "# check that they have the same eigenvalues\n",
    "print(np.linalg.eig(A)[0])\n",
    "print(np.linalg.eig(H)[0])"
   ]
  },
  {
   "cell_type": "code",
   "execution_count": 5,
   "id": "f7f74a11-a2a5-4ca2-b33c-a0c33629859f",
   "metadata": {},
   "outputs": [],
   "source": [
    "def fullHessenberg(matrix):\n",
    "    A=matrix.copy().astype(float)\n",
    "    m = A.shape[0]\n",
    "    Q=np.identity(A.shape[0])\n",
    "\n",
    "    for k in range(m-2):\n",
    "        x=A[k+1:m,k]\n",
    "        v = getSign(x[0])*np.linalg.norm(x,2)*getE1(x.shape[0]) + x\n",
    "        v = v/np.linalg.norm(v,2)\n",
    "\n",
    "        q_k=_getHV(v)\n",
    "        P=np.identity(A.shape[0])\n",
    "        P[k+1:,k+1:] = q_k\n",
    "        Q=np.matmul(Q,P)\n",
    "\n",
    "        A[k+1:m,k:m]=A[k+1:m,k:m]-2*np.outer(v,np.matmul(v,A[k+1:m,k:m]))\n",
    "        A[0:m,k+1:m]=A[0:m,k+1:m]-2*np.outer(np.matmul(A[0:m,k+1:m],v.T),v)   \n",
    "    return(A.round(8),Q)\n",
    "\n",
    "def _getHV(v):\n",
    "    I=np.identity(v.shape[0])\n",
    "    return(I-2*np.outer(v,v))"
   ]
  },
  {
   "cell_type": "code",
   "execution_count": 6,
   "id": "59c87581-1a94-4972-a4b0-b0a2ab26b9b6",
   "metadata": {},
   "outputs": [
    {
     "name": "stdout",
     "output_type": "stream",
     "text": [
      "[[ 1.         -5.38516481  0.          0.        ]\n",
      " [-5.38516481 22.48275862  2.76830198  0.        ]\n",
      " [ 0.          2.76830198  0.28558894  0.17797364]\n",
      " [ 0.          0.          0.17797364  0.23165244]]\n",
      "[[ 1.         -5.38516481  0.          0.        ]\n",
      " [-5.38516481 22.48275862  2.76830198 -0.        ]\n",
      " [ 0.          2.76830198  0.28558894  0.17797364]\n",
      " [ 0.         -0.          0.17797364  0.23165244]]\n"
     ]
    }
   ],
   "source": [
    "H,Q = fullHessenberg(A)\n",
    "print(H)\n",
    "print(np.matmul(np.matmul(Q.T,A),Q).round(8))"
   ]
  },
  {
   "cell_type": "code",
   "execution_count": 12,
   "id": "21535fe3-8c43-4615-821a-c49574fe36f3",
   "metadata": {},
   "outputs": [
    {
     "name": "stdout",
     "output_type": "stream",
     "text": [
      "[[ 7.312829   -7.93801818  0.         ... -0.          0.\n",
      "  -0.        ]\n",
      " [-7.93801818 16.25048098  7.37879096 ... -0.         -0.\n",
      "  -0.        ]\n",
      " [ 0.          7.37879096 12.63425302 ... -0.          0.\n",
      "  -0.        ]\n",
      " ...\n",
      " [ 0.          0.         -0.         ... -0.         -0.\n",
      "   0.        ]\n",
      " [ 0.          0.         -0.         ...  0.         -0.\n",
      "   0.        ]\n",
      " [ 0.         -0.         -0.         ...  0.          0.\n",
      "  -0.        ]]\n",
      "[[ 7.312829   -7.93801818 -0.         ... -0.         -0.\n",
      "   0.        ]\n",
      " [-7.93801818 16.25048098  7.37879096 ...  0.         -0.\n",
      "  -0.        ]\n",
      " [-0.          7.37879096 12.63425302 ... -0.         -0.\n",
      "  -0.        ]\n",
      " ...\n",
      " [-0.          0.         -0.         ...  0.          0.\n",
      "   0.        ]\n",
      " [-0.         -0.         -0.         ...  0.          0.\n",
      "  -0.        ]\n",
      " [ 0.         -0.         -0.         ...  0.          0.\n",
      "  -0.        ]]\n"
     ]
    }
   ],
   "source": [
    "# TRY FOR SOME S\n",
    "# randomly generate some data matrix X\n",
    "n = 100 # number of data points\n",
    "p = 80 # number of features\n",
    "\n",
    "X = np.random.randint(10,size=(n,p))\n",
    "\n",
    "X_mean_array = np.mean(X,axis=0)\n",
    "ones = np.ones(n)\n",
    "X_mean = np.outer(ones,X_mean_array)\n",
    "X_diff = X-X_mean\n",
    "S = np.matmul(X_diff,X_diff.T)/n\n",
    "\n",
    "\n",
    "H,Q = fullHessenberg(S)\n",
    "print(H)\n",
    "print(np.matmul(np.matmul(Q.T,S),Q).round(8))"
   ]
  },
  {
   "cell_type": "code",
   "execution_count": 14,
   "id": "46efdbfd-cc01-4db8-a3ff-08deb23a8cf8",
   "metadata": {},
   "outputs": [
    {
     "data": {
      "text/plain": [
       "0.0"
      ]
     },
     "execution_count": 14,
     "metadata": {},
     "output_type": "execute_result"
    }
   ],
   "source": [
    "np.linalg.norm(H[-1,:],2)"
   ]
  },
  {
   "cell_type": "code",
   "execution_count": 15,
   "id": "09c42624-b94a-4501-a6a5-33bd956c89db",
   "metadata": {},
   "outputs": [
    {
     "data": {
      "text/plain": [
       "(100, 100)"
      ]
     },
     "execution_count": 15,
     "metadata": {},
     "output_type": "execute_result"
    }
   ],
   "source": [
    "H.shape"
   ]
  },
  {
   "cell_type": "code",
   "execution_count": null,
   "id": "1bbe78fa-a061-46cf-a49a-15ef723f72d6",
   "metadata": {},
   "outputs": [],
   "source": []
  }
 ],
 "metadata": {
  "kernelspec": {
   "display_name": "Python 3 (ipykernel)",
   "language": "python",
   "name": "python3"
  },
  "language_info": {
   "codemirror_mode": {
    "name": "ipython",
    "version": 3
   },
   "file_extension": ".py",
   "mimetype": "text/x-python",
   "name": "python",
   "nbconvert_exporter": "python",
   "pygments_lexer": "ipython3",
   "version": "3.9.7"
  }
 },
 "nbformat": 4,
 "nbformat_minor": 5
}
