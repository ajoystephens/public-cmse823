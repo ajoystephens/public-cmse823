{
 "cells": [
  {
   "cell_type": "code",
   "execution_count": 2,
   "id": "230149a0-bbe1-4019-a832-b0a29fa97664",
   "metadata": {},
   "outputs": [],
   "source": [
    "# LIBRARIES\n",
    "import numpy as np\n",
    "\n",
    "import sys\n",
    "sys.path.append('lib/')\n",
    "from pca import *"
   ]
  },
  {
   "cell_type": "code",
   "execution_count": 87,
   "id": "becbeb69-e380-459f-9e91-72ae2b8e68b5",
   "metadata": {},
   "outputs": [],
   "source": [
    "def practical_qr_algorithm(matrix,k_max,zero_cutoff):\n",
    "    m = matrix.shape[0]\n",
    "    A = np.ones((k_max,m,m),dtype=float)\n",
    "    A[0] = hessenberg(matrix)\n",
    "    shift = np.ones(k_max)\n",
    "    eig=[]\n",
    "    \n",
    "    print(matrix.round(5))\n",
    "    for k in range(1,k_max):\n",
    "        # print('k:',k)\n",
    "        shift[k] = A[k-1,m-1,m-1]\n",
    "        if m==1: \n",
    "            # print('last:',shift[k])\n",
    "            return([shift[k].round(8)])\n",
    "        Q,R = householder(A[k-1,:,:]-shift[k]*np.identity(m))\n",
    "        A[k,:,:] = np.matmul(R,Q)+shift[k]*np.identity(m)\n",
    "        # print(A[k,:,:].round(5))\n",
    "        for j in range(m-1):\n",
    "            # print('  j:',j,'val:',A[k,j,j+1])\n",
    "            if np.abs(A[k,j,j+1]) < zero_cutoff:\n",
    "                print('shift:',shift[k],',',A[k,j,j+1])\n",
    "                A[k,j,j+1]=0\n",
    "                A[k,j+1,j]=0\n",
    "                # print('shift:',shift[k],',',A[k,j,j+1])\n",
    "                # break\n",
    "                A_1 = A[k,:j+1,:j+1]\n",
    "                A_2 = A[k,j+1:,j+1:]\n",
    "                # eig=eig+[shift[k].round(8)]\n",
    "                if A_1.shape[0]>0: \n",
    "                    e_temp = practical_qr_algorithm(A_1,k_max,zero_cutoff)\n",
    "                    # print('eig:',eig,'etemp:',e_temp)\n",
    "                    if np.abs(e_temp)[0]>0:eig=eig+e_temp\n",
    "                if A_2.shape[0]>0: \n",
    "                    e_temp = practical_qr_algorithm(A_2,k_max,zero_cutoff)\n",
    "                    # print('eig:',eig,'etemp:',e_temp)\n",
    "                    if np.abs(e_temp)[0]>0:eig=eig+e_temp\n",
    "                # return(eig)\n",
    "\n",
    "    # print('not found')  \n",
    "    # return(shift[k])\n",
    "    return(eig)\n",
    "\n",
    "                "
   ]
  },
  {
   "cell_type": "code",
   "execution_count": 88,
   "id": "156f7118-ba5c-450d-b632-2a318e7b3284",
   "metadata": {},
   "outputs": [
    {
     "name": "stdout",
     "output_type": "stream",
     "text": [
      "[[1 2 3 4]\n",
      " [2 1 2 2]\n",
      " [3 2 1 3]\n",
      " [4 2 3 1]]\n",
      "shift: -1.7115358725609622 , -1.3162095105215347e-09\n",
      "[[ 9.15812e+00 -4.55000e-03 -0.00000e+00]\n",
      " [-4.55000e-03 -2.95382e+00  3.40280e-01]\n",
      " [ 0.00000e+00  3.40280e-01 -4.92770e-01]]\n",
      "shift: -0.4466024667863122 , -4.878573388611645e-08\n",
      "[[ 9.15812e+00  3.10000e-04]\n",
      " [ 3.10000e-04 -3.00000e+00]]\n",
      "shift: -3.0 , -9.999999996728529e-09\n",
      "[[9.15812]]\n",
      "[[-3.]]\n",
      "[[-0.44659]]\n",
      "[[-1.71154]]\n",
      "[9.15812236, -3.00000001, -0.44658651, -1.71153587]\n",
      "[ 9.15812238 -3.         -0.4465865  -1.71153588]\n"
     ]
    }
   ],
   "source": [
    "A = np.array(\n",
    "    [[1,2,3,4],\n",
    "    [2,1,2,2],\n",
    "    [3,2,1,3],\n",
    "    [4,2,3,1]]\n",
    ")\n",
    "\n",
    "# A[0,0:A.shape[0]]\n",
    "print(practical_qr_algorithm(A,20,1e-5))\n",
    "print(np.linalg.eig(A)[0])\n",
    "\n",
    "# j=2\n",
    "# print(A[:j,:j])\n",
    "# print(A[j:,j:])"
   ]
  },
  {
   "cell_type": "code",
   "execution_count": null,
   "id": "3c79aa3e-b8ea-4b01-b721-1cecc6a3c888",
   "metadata": {},
   "outputs": [],
   "source": []
  },
  {
   "cell_type": "code",
   "execution_count": null,
   "id": "cb4d09b1-2c04-4463-a152-669ee5e9cce4",
   "metadata": {},
   "outputs": [],
   "source": []
  }
 ],
 "metadata": {
  "kernelspec": {
   "display_name": "Python 3 (ipykernel)",
   "language": "python",
   "name": "python3"
  },
  "language_info": {
   "codemirror_mode": {
    "name": "ipython",
    "version": 3
   },
   "file_extension": ".py",
   "mimetype": "text/x-python",
   "name": "python",
   "nbconvert_exporter": "python",
   "pygments_lexer": "ipython3",
   "version": "3.9.7"
  }
 },
 "nbformat": 4,
 "nbformat_minor": 5
}
