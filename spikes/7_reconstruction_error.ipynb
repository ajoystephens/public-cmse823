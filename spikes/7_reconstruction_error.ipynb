{
 "cells": [
  {
   "cell_type": "code",
   "execution_count": 1,
   "id": "4dd6bd82-f422-483b-91f2-f37d0460be7c",
   "metadata": {},
   "outputs": [],
   "source": [
    "import numpy as np\n",
    "import pandas as pd\n",
    "import seaborn as sns\n",
    "import random\n",
    "import sys\n",
    "\n",
    "from sklearn.decomposition import PCA\n",
    "from sklearn.metrics import mean_squared_error\n",
    "\n",
    "sys.path.append('lib/')\n",
    "from NumericPCA import NumericPCA"
   ]
  },
  {
   "cell_type": "code",
   "execution_count": 13,
   "id": "34cc3644-6f24-48af-aca6-7dfbd8269246",
   "metadata": {},
   "outputs": [],
   "source": [
    "n = 50 # number of rows in test matrix\n",
    "m = 10 # number of columns in test matrix\n",
    "\n",
    "trials = 10 # number of trials\n",
    "n_components = [2,4,6,8]\n"
   ]
  },
  {
   "cell_type": "code",
   "execution_count": 14,
   "id": "3dbb1b53-7e36-4ca5-810e-eb5d63dfa948",
   "metadata": {},
   "outputs": [],
   "source": [
    "# function to calc error\n",
    "def getReconstructionError(ogData,newData):\n",
    "    rmse = np.sqrt(mean_squared_error(ogData, newData))\n",
    "    nrmse = rmse/np.sqrt(np.mean(ogData**2))\n",
    "    # diff = np.abs(ogData - newData)\n",
    "    return(nrmse)"
   ]
  },
  {
   "cell_type": "code",
   "execution_count": 15,
   "id": "774f212b-8332-443d-a460-aa89cded7317",
   "metadata": {},
   "outputs": [
    {
     "name": "stderr",
     "output_type": "stream",
     "text": [
      "/Users/annastephens/Source/public-cmse823/spikes/lib/NumericPCA.py:225: RuntimeWarning: divide by zero encountered in double_scalars\n",
      "  x[i] = (y[i]-c)/U[i,i]\n",
      "/Users/annastephens/Source/public-cmse823/spikes/lib/NumericPCA.py:224: RuntimeWarning: invalid value encountered in double_scalars\n",
      "  c+=U[i,j]*x[j]\n",
      "/Users/annastephens/Source/public-cmse823/spikes/lib/NumericPCA.py:225: RuntimeWarning: divide by zero encountered in double_scalars\n",
      "  x[i] = (y[i]-c)/U[i,i]\n",
      "/Users/annastephens/Source/public-cmse823/spikes/lib/NumericPCA.py:224: RuntimeWarning: invalid value encountered in double_scalars\n",
      "  c+=U[i,j]*x[j]\n",
      "/Users/annastephens/Source/public-cmse823/spikes/lib/NumericPCA.py:225: RuntimeWarning: divide by zero encountered in double_scalars\n",
      "  x[i] = (y[i]-c)/U[i,i]\n",
      "/Users/annastephens/Source/public-cmse823/spikes/lib/NumericPCA.py:224: RuntimeWarning: invalid value encountered in double_scalars\n",
      "  c+=U[i,j]*x[j]\n",
      "/Users/annastephens/Source/public-cmse823/spikes/lib/NumericPCA.py:225: RuntimeWarning: divide by zero encountered in double_scalars\n",
      "  x[i] = (y[i]-c)/U[i,i]\n",
      "/Users/annastephens/Source/public-cmse823/spikes/lib/NumericPCA.py:224: RuntimeWarning: invalid value encountered in double_scalars\n",
      "  c+=U[i,j]*x[j]\n",
      "/Users/annastephens/Source/public-cmse823/spikes/lib/NumericPCA.py:225: RuntimeWarning: divide by zero encountered in double_scalars\n",
      "  x[i] = (y[i]-c)/U[i,i]\n",
      "/Users/annastephens/Source/public-cmse823/spikes/lib/NumericPCA.py:224: RuntimeWarning: invalid value encountered in double_scalars\n",
      "  c+=U[i,j]*x[j]\n",
      "/Users/annastephens/Source/public-cmse823/spikes/lib/NumericPCA.py:225: RuntimeWarning: divide by zero encountered in double_scalars\n",
      "  x[i] = (y[i]-c)/U[i,i]\n",
      "/Users/annastephens/Source/public-cmse823/spikes/lib/NumericPCA.py:224: RuntimeWarning: invalid value encountered in double_scalars\n",
      "  c+=U[i,j]*x[j]\n",
      "/Users/annastephens/Source/public-cmse823/spikes/lib/NumericPCA.py:225: RuntimeWarning: divide by zero encountered in double_scalars\n",
      "  x[i] = (y[i]-c)/U[i,i]\n",
      "/Users/annastephens/Source/public-cmse823/spikes/lib/NumericPCA.py:224: RuntimeWarning: invalid value encountered in double_scalars\n",
      "  c+=U[i,j]*x[j]\n",
      "/Users/annastephens/Source/public-cmse823/spikes/lib/NumericPCA.py:225: RuntimeWarning: divide by zero encountered in double_scalars\n",
      "  x[i] = (y[i]-c)/U[i,i]\n",
      "/Users/annastephens/Source/public-cmse823/spikes/lib/NumericPCA.py:224: RuntimeWarning: invalid value encountered in double_scalars\n",
      "  c+=U[i,j]*x[j]\n",
      "/Users/annastephens/Source/public-cmse823/spikes/lib/NumericPCA.py:225: RuntimeWarning: divide by zero encountered in double_scalars\n",
      "  x[i] = (y[i]-c)/U[i,i]\n",
      "/Users/annastephens/Source/public-cmse823/spikes/lib/NumericPCA.py:224: RuntimeWarning: invalid value encountered in double_scalars\n",
      "  c+=U[i,j]*x[j]\n"
     ]
    }
   ],
   "source": [
    "results = pd.DataFrame(columns=['trial','n_components','method','nrmse'])\n",
    "\n",
    "for t in range(trials):\n",
    "    X = np.random.randint(10,size=(n,m))\n",
    "    \n",
    "    for p in n_components:\n",
    "        ignore_run = False\n",
    "        nPCA = NumericPCA(n_components=p)\n",
    "        fit = nPCA.fit(X)\n",
    "        X_trans = nPCA.transform(X)\n",
    "        X_new = nPCA.inverse_transform(X_trans)\n",
    "        if np.any(np.isnan(X_new)): ignore_run = True\n",
    "        # print(X_new)\n",
    "        if not ignore_run: nPCA_error = getReconstructionError(X,X_new)\n",
    "        \n",
    "        \n",
    "        pca = PCA(n_components=p)\n",
    "        fit = pca.fit(X)\n",
    "        X_trans = pca.transform(X)\n",
    "        X_new = pca.inverse_transform(X_trans)\n",
    "        if np.any(np.isnan(X_new)): ignore_run = True\n",
    "        # print(X_new)\n",
    "        if not ignore_run: pca_error = getReconstructionError(X,X_new)\n",
    "        \n",
    "        # print(ignore_run)\n",
    "        if not ignore_run:\n",
    "            r = [{'trial': t,'n_components': p,'method': 'project','nrmse': nPCA_error,},\n",
    "                {'trial': t,'n_components': p,'method': 'pca','nrmse': pca_error,}]\n",
    "            results = results.append(r, True)\n",
    "            \n",
    "            # print(results.head())"
   ]
  },
  {
   "cell_type": "code",
   "execution_count": 16,
   "id": "9e4cca0d-af24-4b6c-8c10-c658178d0d9c",
   "metadata": {},
   "outputs": [
    {
     "data": {
      "text/html": [
       "<div>\n",
       "<style scoped>\n",
       "    .dataframe tbody tr th:only-of-type {\n",
       "        vertical-align: middle;\n",
       "    }\n",
       "\n",
       "    .dataframe tbody tr th {\n",
       "        vertical-align: top;\n",
       "    }\n",
       "\n",
       "    .dataframe thead th {\n",
       "        text-align: right;\n",
       "    }\n",
       "</style>\n",
       "<table border=\"1\" class=\"dataframe\">\n",
       "  <thead>\n",
       "    <tr style=\"text-align: right;\">\n",
       "      <th></th>\n",
       "      <th>trial</th>\n",
       "      <th>n_components</th>\n",
       "      <th>method</th>\n",
       "      <th>nrmse</th>\n",
       "    </tr>\n",
       "  </thead>\n",
       "  <tbody>\n",
       "    <tr>\n",
       "      <th>0</th>\n",
       "      <td>0</td>\n",
       "      <td>2</td>\n",
       "      <td>project</td>\n",
       "      <td>0.439172</td>\n",
       "    </tr>\n",
       "    <tr>\n",
       "      <th>1</th>\n",
       "      <td>0</td>\n",
       "      <td>2</td>\n",
       "      <td>pca</td>\n",
       "      <td>0.421143</td>\n",
       "    </tr>\n",
       "    <tr>\n",
       "      <th>2</th>\n",
       "      <td>0</td>\n",
       "      <td>4</td>\n",
       "      <td>project</td>\n",
       "      <td>0.387188</td>\n",
       "    </tr>\n",
       "    <tr>\n",
       "      <th>3</th>\n",
       "      <td>0</td>\n",
       "      <td>4</td>\n",
       "      <td>pca</td>\n",
       "      <td>0.328349</td>\n",
       "    </tr>\n",
       "    <tr>\n",
       "      <th>4</th>\n",
       "      <td>0</td>\n",
       "      <td>6</td>\n",
       "      <td>project</td>\n",
       "      <td>0.349189</td>\n",
       "    </tr>\n",
       "  </tbody>\n",
       "</table>\n",
       "</div>"
      ],
      "text/plain": [
       "  trial n_components   method     nrmse\n",
       "0     0            2  project  0.439172\n",
       "1     0            2      pca  0.421143\n",
       "2     0            4  project  0.387188\n",
       "3     0            4      pca  0.328349\n",
       "4     0            6  project  0.349189"
      ]
     },
     "execution_count": 16,
     "metadata": {},
     "output_type": "execute_result"
    }
   ],
   "source": [
    "results.head()"
   ]
  },
  {
   "cell_type": "code",
   "execution_count": 19,
   "id": "0b61d47f-9113-47d9-a929-b0617deabbd8",
   "metadata": {},
   "outputs": [
    {
     "data": {
      "text/html": [
       "<div>\n",
       "<style scoped>\n",
       "    .dataframe tbody tr th:only-of-type {\n",
       "        vertical-align: middle;\n",
       "    }\n",
       "\n",
       "    .dataframe tbody tr th {\n",
       "        vertical-align: top;\n",
       "    }\n",
       "\n",
       "    .dataframe thead tr th {\n",
       "        text-align: left;\n",
       "    }\n",
       "</style>\n",
       "<table border=\"1\" class=\"dataframe\">\n",
       "  <thead>\n",
       "    <tr>\n",
       "      <th></th>\n",
       "      <th>n_components</th>\n",
       "      <th>method</th>\n",
       "      <th colspan=\"2\" halign=\"left\">nrmse</th>\n",
       "    </tr>\n",
       "    <tr>\n",
       "      <th></th>\n",
       "      <th></th>\n",
       "      <th></th>\n",
       "      <th>mean</th>\n",
       "      <th>std</th>\n",
       "    </tr>\n",
       "  </thead>\n",
       "  <tbody>\n",
       "    <tr>\n",
       "      <th>0</th>\n",
       "      <td>2</td>\n",
       "      <td>pca</td>\n",
       "      <td>0.432095</td>\n",
       "      <td>0.008532</td>\n",
       "    </tr>\n",
       "    <tr>\n",
       "      <th>1</th>\n",
       "      <td>2</td>\n",
       "      <td>project</td>\n",
       "      <td>0.446625</td>\n",
       "      <td>0.031612</td>\n",
       "    </tr>\n",
       "    <tr>\n",
       "      <th>2</th>\n",
       "      <td>4</td>\n",
       "      <td>pca</td>\n",
       "      <td>0.340377</td>\n",
       "      <td>0.008684</td>\n",
       "    </tr>\n",
       "    <tr>\n",
       "      <th>3</th>\n",
       "      <td>4</td>\n",
       "      <td>project</td>\n",
       "      <td>0.390495</td>\n",
       "      <td>0.060870</td>\n",
       "    </tr>\n",
       "    <tr>\n",
       "      <th>4</th>\n",
       "      <td>6</td>\n",
       "      <td>pca</td>\n",
       "      <td>0.255531</td>\n",
       "      <td>0.008928</td>\n",
       "    </tr>\n",
       "    <tr>\n",
       "      <th>5</th>\n",
       "      <td>6</td>\n",
       "      <td>project</td>\n",
       "      <td>0.344818</td>\n",
       "      <td>0.088204</td>\n",
       "    </tr>\n",
       "    <tr>\n",
       "      <th>6</th>\n",
       "      <td>8</td>\n",
       "      <td>pca</td>\n",
       "      <td>0.160330</td>\n",
       "      <td>0.010012</td>\n",
       "    </tr>\n",
       "    <tr>\n",
       "      <th>7</th>\n",
       "      <td>8</td>\n",
       "      <td>project</td>\n",
       "      <td>0.327279</td>\n",
       "      <td>0.109039</td>\n",
       "    </tr>\n",
       "  </tbody>\n",
       "</table>\n",
       "</div>"
      ],
      "text/plain": [
       "  n_components   method     nrmse          \n",
       "                             mean       std\n",
       "0            2      pca  0.432095  0.008532\n",
       "1            2  project  0.446625  0.031612\n",
       "2            4      pca  0.340377  0.008684\n",
       "3            4  project  0.390495  0.060870\n",
       "4            6      pca  0.255531  0.008928\n",
       "5            6  project  0.344818  0.088204\n",
       "6            8      pca  0.160330  0.010012\n",
       "7            8  project  0.327279  0.109039"
      ]
     },
     "execution_count": 19,
     "metadata": {},
     "output_type": "execute_result"
    }
   ],
   "source": [
    "summary = results.groupby(['n_components','method']).agg({'nrmse': ['mean', 'std'],})\n",
    "summary.reset_index()"
   ]
  },
  {
   "cell_type": "code",
   "execution_count": 18,
   "id": "93263071-b099-4813-a310-a6e5d873ad96",
   "metadata": {},
   "outputs": [
    {
     "data": {
      "text/plain": [
       "<AxesSubplot:xlabel='n_components', ylabel='nrmse'>"
      ]
     },
     "execution_count": 18,
     "metadata": {},
     "output_type": "execute_result"
    },
    {
     "data": {
      "image/png": "[encoded data removed]",
      "text/plain": [
       "<Figure size 432x288 with 1 Axes>"
      ]
     },
     "metadata": {
      "needs_background": "light"
     },
     "output_type": "display_data"
    }
   ],
   "source": [
    "# import seaborn as sns\n",
    "\n",
    "sns.boxplot(y='nrmse', x='n_components', \n",
    "                 data=results, \n",
    "                 hue='method')\n",
    "\n",
    "# swarm_plot = sns.swarmplot(...)\n",
    "# fig = swarm_plot.get_figure()\n",
    "# fig.savefig(\"out.png\")"
   ]
  },
  {
   "cell_type": "code",
   "execution_count": null,
   "id": "0836bf6b-bc51-4434-879c-7b0f046be796",
   "metadata": {},
   "outputs": [],
   "source": []
  },
  {
   "cell_type": "code",
   "execution_count": null,
   "id": "ad2bc8f7-637a-4a6c-9a64-d4f4943bceda",
   "metadata": {},
   "outputs": [],
   "source": []
  }
 ],
 "metadata": {
  "kernelspec": {
   "display_name": "Python 3 (ipykernel)",
   "language": "python",
   "name": "python3"
  },
  "language_info": {
   "codemirror_mode": {
    "name": "ipython",
    "version": 3
   },
   "file_extension": ".py",
   "mimetype": "text/x-python",
   "name": "python",
   "nbconvert_exporter": "python",
   "pygments_lexer": "ipython3",
   "version": "3.9.7"
  }
 },
 "nbformat": 4,
 "nbformat_minor": 5
}
