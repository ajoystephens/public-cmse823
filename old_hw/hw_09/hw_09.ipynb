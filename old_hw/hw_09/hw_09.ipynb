{
 "cells": [
  {
   "cell_type": "markdown",
   "id": "04a8f28c-c07e-4c27-a1ce-6e377bf100c1",
   "metadata": {},
   "source": [
    "# CMSE 823 HW 09 Question 3\n",
    "Anna Stephens, steph496@msu.edu"
   ]
  },
  {
   "cell_type": "code",
   "execution_count": 1,
   "id": "30ea76f5-966a-47db-bf2d-e914c546abbe",
   "metadata": {},
   "outputs": [],
   "source": [
    "# LIBRARIES\n",
    "import pandas as pd\n",
    "import numpy as np"
   ]
  },
  {
   "cell_type": "code",
   "execution_count": 2,
   "id": "48b9492f-a02c-410e-877d-da579feb2ee1",
   "metadata": {},
   "outputs": [],
   "source": [
    "# Functions to define H and the appropriate b\n",
    "def getH(n):\n",
    "    H = np.ones([n,n])\n",
    "    for i in range(n):\n",
    "        for j in range(n):\n",
    "            H[i,j]=1.00/((i+1)+(j+1)-1)\n",
    "    return(H)\n",
    "\n",
    "def getb(H):\n",
    "    x = np.ones(H.shape[0])\n",
    "    b = np.matmul(H,x)\n",
    "    return(b)"
   ]
  },
  {
   "cell_type": "code",
   "execution_count": 3,
   "id": "20daac57-cd7f-4a8b-b56b-5ea08a929f79",
   "metadata": {},
   "outputs": [],
   "source": [
    "# (a) LU Decomposition\n",
    "\n",
    "# Function for LU Decomposition without Pivoting\n",
    "#  derived from Algorithm 20.1\n",
    "def luWithoutPivot(A):\n",
    "    m=A.shape[0]\n",
    "    U = A\n",
    "    L=np.identity(m)\n",
    "    # print('m:',m)\n",
    "    for k in range(m-1):\n",
    "        # print(k)\n",
    "        for j in range(k+1,m):\n",
    "            # print(' -',j)\n",
    "            L[j,k] = U[j,k]/U[k,k]\n",
    "            U[j,k:m] = U[j,k:m] - L[j,k]*U[k,k:m]\n",
    "    return(L,U)\n",
    "\n",
    "# Forward Substitution Algorithm\n",
    "def forwardSub(L,b):\n",
    "    n = b.shape[0]\n",
    "    y = np.ones(n) # construct basic y\n",
    "    for i in range(n):\n",
    "        c=0\n",
    "        for j in range(i):\n",
    "            c+=L[i,j]*y[j]\n",
    "        y[i] = (b[i]-c)/L[i,i]\n",
    "    return(y)\n",
    "\n",
    "# Backward Substitution Algorithm\n",
    "def backwardSub(U,y):\n",
    "    n = y.shape[0]\n",
    "    x = np.ones(n) # construct basic y\n",
    "    for i in range(n-1,-1,-1):\n",
    "        # print('i',i)\n",
    "        c=0\n",
    "        for j in range(n-1,i,-1):\n",
    "            # print(' j',j)\n",
    "            c+=U[i,j]*x[j]\n",
    "        x[i] = (y[i]-c)/U[i,i]\n",
    "        # print(i)\n",
    "    \n",
    "    return(x)\n",
    "\n",
    "def solveXLU(n):\n",
    "    H = getH(n)\n",
    "    b = getb(H)\n",
    "    \n",
    "    L,U=luWithoutPivot(H) # decompose H into L and U\n",
    "    y = forwardSub(L,b) # use forward substitution to solve for y (Ly=b)\n",
    "    x = backwardSub(U,y) # use backward substitution to solve for x (Ux=y)\n",
    "    return(x)"
   ]
  },
  {
   "cell_type": "code",
   "execution_count": 4,
   "id": "8f6c2c95-9d76-4eb0-8fa5-6a09b8c27df3",
   "metadata": {},
   "outputs": [
    {
     "name": "stdout",
     "output_type": "stream",
     "text": [
      "n: 2\n",
      " calculated x:\n",
      "[1. 1.]\n",
      "n: 4\n",
      " calculated x:\n",
      "[1. 1. 1. 1.]\n",
      "n: 6\n",
      " calculated x:\n",
      "[1. 1. 1. 1. 1. 1.]\n",
      "n: 8\n",
      " calculated x:\n",
      "[1.         0.99999999 1.00000007 0.9999996  1.00000107 0.99999849\n",
      " 1.00000108 0.9999997 ]\n",
      "n: 10\n",
      " calculated x:\n",
      "[1.         1.00000012 0.99999755 1.00002209 0.99989525 1.00028658\n",
      " 0.99953167 1.00045107 0.99976387 1.0000518 ]\n"
     ]
    }
   ],
   "source": [
    "testN = [2,4,6,8,10]\n",
    "\n",
    "for n in testN:\n",
    "    print('n:',n)\n",
    "    x = solveXLU(n)\n",
    "    \n",
    "    print(' calculated x:')\n",
    "    print(x)"
   ]
  },
  {
   "cell_type": "markdown",
   "id": "ec437aa1-627c-4ef0-85fe-94eb58ed7901",
   "metadata": {},
   "source": [
    "## Comments on Solving for x with LU Decomposition\n",
    "\n",
    "As the size of the matrix H increased the calculated vector x became increasingly inaccurate."
   ]
  },
  {
   "cell_type": "code",
   "execution_count": 5,
   "id": "6bcf2b6b-d5fa-4944-9d4b-0eac3aca4d75",
   "metadata": {},
   "outputs": [],
   "source": [
    "# (b) Cholesky factorization\n",
    "\n",
    "# Function for Cholesky Factorization\n",
    "#  derived from Algorithm 23.1\n",
    "def cholesky(A):\n",
    "    m = A.shape[0]\n",
    "    R = getSuperdiagonalHalf(A)\n",
    "    for k in range(m):\n",
    "        for j in range(k+1,m):\n",
    "            R[j,j:m] = R[j,j:m] - R[k,j:m]*R[k,j]/R[k,k]\n",
    "        R[k,k:m] = R[k,k:m]/np.sqrt(R[k,k])\n",
    "    return(R)\n",
    "\n",
    "def getSuperdiagonalHalf(A):\n",
    "    new = np.zeros(A.shape)\n",
    "    for i in range(A.shape[0]):\n",
    "        for j in range(A.shape[1]):\n",
    "            if i<=j: new[i,j] = A[i,j]  \n",
    "    return (new)\n",
    "\n",
    "def solveXCholesky(n):\n",
    "    H = getH(n)\n",
    "    b = getb(H)\n",
    "    \n",
    "    R=cholesky(H) # decompose H into L and U\n",
    "    y = forwardSub(R.T,b) # use forward substitution to solve for y in Ly=b\n",
    "    x = backwardSub(R,y) # use backward substitution to solve for x in Ux=y, and therefore Hx=b\n",
    "    \n",
    "    return(x)"
   ]
  },
  {
   "cell_type": "code",
   "execution_count": 6,
   "id": "12a70d5c-bc93-410f-adac-87b311324d59",
   "metadata": {},
   "outputs": [
    {
     "name": "stdout",
     "output_type": "stream",
     "text": [
      "n: 2\n",
      " calculated x:\n",
      "[1. 1.]\n",
      "n: 4\n",
      " calculated x:\n",
      "[1. 1. 1. 1.]\n",
      "n: 6\n",
      " calculated x:\n",
      "[1. 1. 1. 1. 1. 1.]\n",
      "n: 8\n",
      " calculated x:\n",
      "[1.         1.         0.99999996 1.00000021 0.99999943 1.0000008\n",
      " 0.99999943 1.00000016]\n",
      "n: 10\n",
      " calculated x:\n",
      "[1.         0.99999967 1.000007   0.99993588 1.00030777 0.99914955\n",
      " 1.00140133 0.99864087 1.00071574 0.99984218]\n"
     ]
    }
   ],
   "source": [
    "testN = [2,4,6,8,10]\n",
    "\n",
    "for n in testN:\n",
    "    print('n:',n)\n",
    "    x = solveXCholesky(n)\n",
    "    print(' calculated x:')\n",
    "    print(x)"
   ]
  },
  {
   "cell_type": "markdown",
   "id": "7cd68519-e12c-446c-b3b0-3082d0c57a85",
   "metadata": {},
   "source": [
    "## Comments on Solving for x with Cholesky Factorization\n",
    "Similarly to the LU process above, as the size of the matrix H increased the calculated vector x became increasingly inaccurate."
   ]
  }
 ],
 "metadata": {
  "kernelspec": {
   "display_name": "Python 3 (ipykernel)",
   "language": "python",
   "name": "python3"
  },
  "language_info": {
   "codemirror_mode": {
    "name": "ipython",
    "version": 3
   },
   "file_extension": ".py",
   "mimetype": "text/x-python",
   "name": "python",
   "nbconvert_exporter": "python",
   "pygments_lexer": "ipython3",
   "version": "3.9.7"
  }
 },
 "nbformat": 4,
 "nbformat_minor": 5
}
