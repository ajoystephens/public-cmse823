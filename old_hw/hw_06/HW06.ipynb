{
 "cells": [
  {
   "cell_type": "markdown",
   "id": "27ab2d57-d9df-4fe2-966d-97fe0474fe79",
   "metadata": {},
   "source": [
    "# CMSE823 HW06\n",
    "Anna Stephens, steph496@msu.edu <br>\n",
    "Due March 3"
   ]
  },
  {
   "cell_type": "code",
   "execution_count": 1,
   "id": "2b255210-41be-472d-a3da-78adcc86ae13",
   "metadata": {},
   "outputs": [],
   "source": [
    "# LIBRARIES\n",
    "import numpy as np"
   ]
  },
  {
   "cell_type": "markdown",
   "id": "dae526b6-c8ec-4fab-98f0-75628280b55b",
   "metadata": {},
   "source": [
    "## Question 1\n",
    "$$A_1=\\begin{bmatrix} \n",
    "    1 & 2 & 3 \\\\ \n",
    "    4 & 5 & 6 \\\\ \n",
    "    7 & 8 & 7 \\\\ \n",
    "    4 & 2 & 3 \\\\\n",
    "    4 & 2 & 2\n",
    "    \\end{bmatrix}$$\n",
    "\n",
    "\n",
    "(a) Implement the following three algorithms to find the reduced QR decomposition of $A_1$:\n",
    "- classical Gram-Schmidt\n",
    "- modified Gram-Schmidt\n",
    "- Householder transformation algorithm\n",
    "\n",
    "(b) Use the built-in function to find the reduced QR decomposition of $A_1$. Compare this result with those\n",
    "in (a) and comment on the differences that you observe."
   ]
  },
  {
   "cell_type": "code",
   "execution_count": 2,
   "id": "4796444e-c565-4379-86a4-c2c04eccde19",
   "metadata": {},
   "outputs": [],
   "source": [
    "# Declare A as A_1\n",
    "A=[[1, 2, 3],\n",
    "   [4, 5, 6],\n",
    "   [7, 8, 7],\n",
    "   [4, 2, 3],\n",
    "   [4, 2, 2]]\n",
    "A=np.array(A)"
   ]
  },
  {
   "cell_type": "markdown",
   "id": "6242d403-f75e-4313-a999-9b18ce5d18ba",
   "metadata": {
    "tags": []
   },
   "source": [
    "### Classical Gram-Schmidt"
   ]
  },
  {
   "cell_type": "code",
   "execution_count": 3,
   "id": "62bbc1b1-0639-4fee-923b-595d3699b144",
   "metadata": {},
   "outputs": [],
   "source": [
    "# implementation of classical Gram-Schmidt following Algorithm 7.1\n",
    "def classicalGS(matrix):\n",
    "    n=matrix.shape[1]               # n = number of columns of matrix\n",
    "    v=np.zeros(matrix.shape, float) # setup v as empty mxn\n",
    "    q=np.zeros(matrix.shape, float) # setup q as empty mxn\n",
    "    r=np.zeros((n,n), float)        # setup r as empty nxn\n",
    "    for j in range(n):              \n",
    "        v[:,j]=matrix[:,j].copy()   \n",
    "        for i in range(j):\n",
    "            r[i,j]=np.dot(q[:,i],matrix[:,j])\n",
    "            v[:,j]=v[:,j]-(r[i,j]*q[:,i])\n",
    "        r[j,j]=np.linalg.norm(v[:,j],2)\n",
    "        q[:,j]=v[:,j]/r[j,j]\n",
    "    return(q,r)"
   ]
  },
  {
   "cell_type": "code",
   "execution_count": 4,
   "id": "4cfbc71b-86c6-42a8-8860-86436a5521b0",
   "metadata": {},
   "outputs": [
    {
     "name": "stdout",
     "output_type": "stream",
     "text": [
      "[[ 0.10101525  0.31617307  0.5419969 ]\n",
      " [ 0.40406102  0.3533699   0.51618752]\n",
      " [ 0.70710678  0.39056673 -0.52479065]\n",
      " [ 0.40406102 -0.55795248  0.38714064]\n",
      " [ 0.40406102 -0.55795248 -0.12044376]]\n",
      "[[9.89949494 9.49543392 9.69746443]\n",
      " [0.         3.29191961 3.01294337]\n",
      " [0.         0.         1.97011572]]\n"
     ]
    }
   ],
   "source": [
    "Q,R=classicalGS(A)\n",
    "print(Q)\n",
    "print(R)"
   ]
  },
  {
   "cell_type": "code",
   "execution_count": 5,
   "id": "3f0a3c84-38a8-4178-bc52-50b3d0bcc19b",
   "metadata": {},
   "outputs": [
    {
     "data": {
      "text/plain": [
       "array([[ True,  True,  True],\n",
       "       [ True,  True,  True],\n",
       "       [ True,  True,  True],\n",
       "       [ True,  True,  True],\n",
       "       [ True,  True,  True]])"
      ]
     },
     "execution_count": 5,
     "metadata": {},
     "output_type": "execute_result"
    }
   ],
   "source": [
    "# Check that A=QR (with rounding)\n",
    "QR=np.matmul(Q,R)\n",
    "A==np.around(QR).astype(int)"
   ]
  },
  {
   "cell_type": "markdown",
   "id": "70008037-3538-4e4a-b768-7be63c370c45",
   "metadata": {},
   "source": [
    "### Modified Gram-Schmidt"
   ]
  },
  {
   "cell_type": "code",
   "execution_count": 6,
   "id": "888a8167-086a-42ad-a93d-6618b1a2d6c0",
   "metadata": {},
   "outputs": [],
   "source": [
    "# implementation of modified Gram-Schmidt following Algorithm 8.1\n",
    "def modifiedGS(matrix):\n",
    "    n=matrix.shape[1]               # n = number of columns of matrix\n",
    "    v=np.zeros(matrix.shape, float) # setup v as empty mxn\n",
    "    q=np.zeros(matrix.shape, float) # setup q as empty mxn\n",
    "    r=np.zeros((n,n), float)        # setup r as empty nxn\n",
    "    \n",
    "    for i in range(n):\n",
    "        v[:,i]=matrix[:,i].copy()\n",
    "    \n",
    "    for i in range(n):\n",
    "        r[i,i]=np.linalg.norm(v[:,i],2)\n",
    "        q[:,i]=v[:,i]/r[i,i]\n",
    "        for j in range(i,n):\n",
    "            r[i,j]=np.dot(q[:,i],matrix[:,j])\n",
    "            v[:,j]=v[:,j]-(r[i,j]*q[:,i])\n",
    "    return(q,r)"
   ]
  },
  {
   "cell_type": "code",
   "execution_count": 7,
   "id": "f5f60dff-9d30-45bf-873f-eb6e353e14d1",
   "metadata": {},
   "outputs": [
    {
     "name": "stdout",
     "output_type": "stream",
     "text": [
      "[[ 0.10101525  0.31617307  0.5419969 ]\n",
      " [ 0.40406102  0.3533699   0.51618752]\n",
      " [ 0.70710678  0.39056673 -0.52479065]\n",
      " [ 0.40406102 -0.55795248  0.38714064]\n",
      " [ 0.40406102 -0.55795248 -0.12044376]]\n",
      "[[9.89949494 9.49543392 9.69746443]\n",
      " [0.         3.29191961 3.01294337]\n",
      " [0.         0.         1.97011572]]\n"
     ]
    }
   ],
   "source": [
    "Q,R=modifiedGS(A)\n",
    "print(Q)\n",
    "print(R)"
   ]
  },
  {
   "cell_type": "code",
   "execution_count": 8,
   "id": "41d1fbd3-0ccc-44ea-bb62-c86384fbfb4a",
   "metadata": {},
   "outputs": [
    {
     "data": {
      "text/plain": [
       "array([[ True,  True,  True],\n",
       "       [ True,  True,  True],\n",
       "       [ True,  True,  True],\n",
       "       [ True,  True,  True],\n",
       "       [ True,  True,  True]])"
      ]
     },
     "execution_count": 8,
     "metadata": {},
     "output_type": "execute_result"
    }
   ],
   "source": [
    "# Check that A=QR (with rounding)\n",
    "QR=np.matmul(Q,R)\n",
    "A==np.around(QR).astype(int)"
   ]
  },
  {
   "cell_type": "markdown",
   "id": "2f657633-cf93-4bcf-862a-ebbaff9e3766",
   "metadata": {},
   "source": [
    "### Householder"
   ]
  },
  {
   "cell_type": "code",
   "execution_count": 9,
   "id": "3ee8e81d-d90c-4605-9e33-5f35bd73797e",
   "metadata": {},
   "outputs": [],
   "source": [
    "def reducedHouseholder(matrix):\n",
    "    Q,R=householder(matrix) # get full QR from householder algorithm\n",
    "    m=matrix.shape[0]\n",
    "    n=matrix.shape[1]\n",
    "    Q=Q[:m,:n]\n",
    "    R=R[:n,:n]\n",
    "    return(Q,R)\n",
    "\n",
    "# implementation of Householder using Algorithm 10.1\n",
    "#  Notes: \n",
    "#   - Alg 10.1 only returned R, made modifications derived from class notes\n",
    "#    to get Q\n",
    "#   - This returns full QR and question asked for reduced\n",
    "def householder(matrix):\n",
    "    A=matrix.copy().astype(float)\n",
    "    n=matrix.shape[1]\n",
    "    v=np.zeros(matrix.shape, float)\n",
    "    q_star=np.identity(A.shape[0])\n",
    "    for k in range(n):\n",
    "        x=A[k:,k]\n",
    "        v[k:,k]=getSign(x[0])*np.linalg.norm(x,2)*getE1(x.shape[0])+x\n",
    "        v[k:,k]=v[k:,k]/np.linalg.norm(v[k:,k],2)\n",
    "        q_k=np.identity(A.shape[0])\n",
    "        q_k[k:,k:]=getHV(v[k:,k])\n",
    "        q_star=np.matmul(q_k,q_star)\n",
    "        # print(v[k:,k][np.newaxis].T.shape)\n",
    "        # print(v[k:,k][np.newaxis].shape)\n",
    "        A[k:,k:]=A[k:,k:]-2*np.matmul(v[k:,k][np.newaxis].T,np.matmul(v[k:,k][np.newaxis],A[k:,k:]))\n",
    "    \n",
    "    Q=q_star.T\n",
    "    R=A.round(8)\n",
    "    return(Q,R)\n",
    "\n",
    "# function that returns an e1 vector of length m\n",
    "def getE1(m):\n",
    "    e1=np.zeros((m))\n",
    "    e1[0]=1\n",
    "    return(e1)\n",
    "\n",
    "# a sign function that checks and corrects for x=0 according to notes in book\n",
    "def getSign(x):\n",
    "    sign=np.sign(x)\n",
    "    if sign==0: sign=1\n",
    "    return(sign)\n",
    "\n",
    "# calculate some H_v\n",
    "def getHV(v):\n",
    "    I=np.identity(v.shape[0])\n",
    "    return(I-2*np.outer(v,v))"
   ]
  },
  {
   "cell_type": "code",
   "execution_count": 10,
   "id": "280d3ff2-3153-4985-95ee-3d66bf1f5958",
   "metadata": {},
   "outputs": [
    {
     "name": "stdout",
     "output_type": "stream",
     "text": [
      "[[-0.10101525 -0.31617307  0.5419969 ]\n",
      " [-0.40406102 -0.3533699   0.51618752]\n",
      " [-0.70710678 -0.39056673 -0.52479065]\n",
      " [-0.40406102  0.55795248  0.38714064]\n",
      " [-0.40406102  0.55795248 -0.12044376]]\n",
      "[[-9.89949494 -9.49543392 -9.69746443]\n",
      " [-0.         -3.29191961 -3.01294337]\n",
      " [-0.          0.          1.97011572]]\n"
     ]
    }
   ],
   "source": [
    "Q,R=reducedHouseholder(A)\n",
    "print(Q)\n",
    "print(R)"
   ]
  },
  {
   "cell_type": "code",
   "execution_count": 11,
   "id": "45f25b1f-7731-4ee0-8b5f-3f31b516a121",
   "metadata": {},
   "outputs": [
    {
     "data": {
      "text/plain": [
       "array([[ True,  True,  True],\n",
       "       [ True,  True,  True],\n",
       "       [ True,  True,  True],\n",
       "       [ True,  True,  True],\n",
       "       [ True,  True,  True]])"
      ]
     },
     "execution_count": 11,
     "metadata": {},
     "output_type": "execute_result"
    }
   ],
   "source": [
    "# Check that A=QR (with rounding)\n",
    "QR=np.matmul(Q,R)\n",
    "A==np.around(QR).astype(int)"
   ]
  },
  {
   "cell_type": "markdown",
   "id": "7a81d2a5-5761-48e4-89b9-1e5f413cc3d8",
   "metadata": {},
   "source": [
    "### Built-In Function: numpy.linalg.qr"
   ]
  },
  {
   "cell_type": "code",
   "execution_count": 12,
   "id": "5599d33a-a054-4e2b-99bf-c8492ebe4fb2",
   "metadata": {},
   "outputs": [
    {
     "name": "stdout",
     "output_type": "stream",
     "text": [
      "[[-0.10101525 -0.31617307  0.5419969 ]\n",
      " [-0.40406102 -0.3533699   0.51618752]\n",
      " [-0.70710678 -0.39056673 -0.52479065]\n",
      " [-0.40406102  0.55795248  0.38714064]\n",
      " [-0.40406102  0.55795248 -0.12044376]]\n",
      "[[-9.89949494 -9.49543392 -9.69746443]\n",
      " [ 0.         -3.29191961 -3.01294337]\n",
      " [ 0.          0.          1.97011572]]\n"
     ]
    }
   ],
   "source": [
    "Q,R=np.linalg.qr(A, mode='reduced')\n",
    "print(Q)\n",
    "print(R)"
   ]
  },
  {
   "cell_type": "markdown",
   "id": "a2256dcc-a116-43a2-89d7-d698e1bb6ab0",
   "metadata": {},
   "source": [
    "### Comparison\n",
    "The Q and R found by the built in function are identical to those found by my implementation of householder. They are, however, the negative versions of the ones found by the two gram-schmidt methods. All work as factorizations, however as $A=QR=(-Q)(-R)$\n"
   ]
  },
  {
   "cell_type": "markdown",
   "id": "a04f6014-2890-4aaa-aa0c-d2e0e4abc03f",
   "metadata": {},
   "source": [
    "## Question 2\n",
    "$$A_2=\\begin{bmatrix} \n",
    "    0.70000 & 0.70711 \\\\ \n",
    "    0.70001 & 0.70711\n",
    "    \\end{bmatrix}$$\n",
    "\n",
    "\n",
    "(a) Implement the above three algorithms to find the reduced QR decomposition of $A_2$. Check the orthogonality of Q by computing the Frobenius norm of the matrix $Q^*Q - I$ where $I$ is the $n\\times n$ identity matrix.\n",
    "\n",
    "(b) Use the built-in function to find the reduced QR decomposition of $A_2$. Again, check the orthogonality\n",
    "of Q by computing the Frobenius norm of the matrix $Q^*Q - I$. Compare this result with those in (a) and\n",
    "comment on the differences that you observe."
   ]
  },
  {
   "cell_type": "code",
   "execution_count": 13,
   "id": "8942246a-cd90-4b50-a7c0-f0f055f758d2",
   "metadata": {},
   "outputs": [],
   "source": [
    "# Declare A as A_2\n",
    "A=[[0.70000, 0.70711],\n",
    "   [0.70001, 0.70711]]\n",
    "A=np.array(A)"
   ]
  },
  {
   "cell_type": "code",
   "execution_count": 14,
   "id": "3c54b6e7-a1e4-4a5e-9f7a-cc9990d81b18",
   "metadata": {},
   "outputs": [],
   "source": [
    "# if Q is orthogonal then the frobenius norm of (Q^* Q - I) should be zero\n",
    "#  or very close to it\n",
    "# \n",
    "#  here we return both the calculated value and whether or not it is close to\n",
    "#   zero with meaning the first 10 decimal places round to zero\n",
    "def getOrthogonalCheck(Q):\n",
    "    x=np.matmul(Q.T,Q)-np.identity(Q.shape[1]) # Q^* Q - I\n",
    "    x=np.linalg.norm(x,ord='fro') # frobenius norm\n",
    "    return(x,x.round(10)==0)"
   ]
  },
  {
   "cell_type": "markdown",
   "id": "8a575d36-058c-40ac-a5e8-029da8adc240",
   "metadata": {
    "tags": []
   },
   "source": [
    "### Classical Gram-Schmidt\n",
    "Methods were already implemented as functions above. Can simply re-use here."
   ]
  },
  {
   "cell_type": "code",
   "execution_count": 15,
   "id": "4749fd4a-953c-446c-b6dd-f949119ba872",
   "metadata": {},
   "outputs": [
    {
     "name": "stdout",
     "output_type": "stream",
     "text": [
      "[[ 0.70710173  0.70711183]\n",
      " [ 0.70711183 -0.70710173]]\n",
      "[[9.89956565e-01 1.00000455e+00]\n",
      " [0.00000000e+00 7.14283864e-06]]\n"
     ]
    }
   ],
   "source": [
    "Q,R=classicalGS(A)\n",
    "print(Q)\n",
    "print(R)"
   ]
  },
  {
   "cell_type": "code",
   "execution_count": 16,
   "id": "37f0e633-90d1-4a58-a670-d2713c27a909",
   "metadata": {},
   "outputs": [
    {
     "data": {
      "text/plain": [
       "array([[ True,  True],\n",
       "       [ True,  True]])"
      ]
     },
     "execution_count": 16,
     "metadata": {},
     "output_type": "execute_result"
    }
   ],
   "source": [
    "# Check that A=QR (with rounding)\n",
    "QR=np.matmul(Q,R)\n",
    "A==QR.round(5)"
   ]
  },
  {
   "cell_type": "code",
   "execution_count": 17,
   "id": "7cd74392-7e90-4d76-ae7d-628dd6bd1eae",
   "metadata": {},
   "outputs": [
    {
     "data": {
      "text/plain": [
       "(3.254726094493924e-11, True)"
      ]
     },
     "execution_count": 17,
     "metadata": {},
     "output_type": "execute_result"
    }
   ],
   "source": [
    "getOrthogonalCheck(Q)"
   ]
  },
  {
   "cell_type": "markdown",
   "id": "0c69c71e-e14e-4e6a-93a2-a6257655d1d2",
   "metadata": {},
   "source": [
    "### Modified Gram-Schmidt\n",
    "Methods were already implemented as functions above. Can simply re-use here."
   ]
  },
  {
   "cell_type": "code",
   "execution_count": 18,
   "id": "7e96cc80-8856-48e7-8088-4eaa12cc2346",
   "metadata": {},
   "outputs": [
    {
     "name": "stdout",
     "output_type": "stream",
     "text": [
      "[[ 0.70710173  0.70711183]\n",
      " [ 0.70711183 -0.70710173]]\n",
      "[[9.89956565e-01 1.00000455e+00]\n",
      " [0.00000000e+00 7.14286165e-06]]\n"
     ]
    }
   ],
   "source": [
    "Q,R=modifiedGS(A)\n",
    "print(Q)\n",
    "print(R)"
   ]
  },
  {
   "cell_type": "code",
   "execution_count": 19,
   "id": "630077f4-56d6-408c-a688-620d587be6b2",
   "metadata": {},
   "outputs": [
    {
     "data": {
      "text/plain": [
       "array([[ True,  True],\n",
       "       [ True,  True]])"
      ]
     },
     "execution_count": 19,
     "metadata": {},
     "output_type": "execute_result"
    }
   ],
   "source": [
    "# Check that A=QR (with rounding)\n",
    "QR=np.matmul(Q,R)\n",
    "A==QR.round(5)"
   ]
  },
  {
   "cell_type": "code",
   "execution_count": 20,
   "id": "2a7f9cc9-879f-47b2-9650-e4bf83281ec6",
   "metadata": {},
   "outputs": [
    {
     "data": {
      "text/plain": [
       "(3.254726094493924e-11, True)"
      ]
     },
     "execution_count": 20,
     "metadata": {},
     "output_type": "execute_result"
    }
   ],
   "source": [
    "getOrthogonalCheck(Q)"
   ]
  },
  {
   "cell_type": "markdown",
   "id": "7a8bcfe2-676c-4da8-bbb7-e4a3ccede7cc",
   "metadata": {},
   "source": [
    "### Householder\n",
    "Methods were already implemented as functions above. Can simply re-use here."
   ]
  },
  {
   "cell_type": "code",
   "execution_count": 21,
   "id": "1902b709-2852-4989-98eb-d9e036e56d27",
   "metadata": {},
   "outputs": [
    {
     "name": "stdout",
     "output_type": "stream",
     "text": [
      "[[-0.70710173  0.70711183]\n",
      " [-0.70711183 -0.70710173]]\n",
      "[[-9.89956560e-01 -1.00000455e+00]\n",
      " [ 0.00000000e+00  7.14000000e-06]]\n"
     ]
    }
   ],
   "source": [
    "Q,R=reducedHouseholder(A)\n",
    "print(Q)\n",
    "print(R)"
   ]
  },
  {
   "cell_type": "code",
   "execution_count": 22,
   "id": "a55ba2cf-c8d7-46ce-ae3b-0a676f90312d",
   "metadata": {},
   "outputs": [
    {
     "data": {
      "text/plain": [
       "array([[ True,  True],\n",
       "       [ True,  True]])"
      ]
     },
     "execution_count": 22,
     "metadata": {},
     "output_type": "execute_result"
    }
   ],
   "source": [
    "# Check that A=QR (with rounding)\n",
    "QR=np.matmul(Q,R)\n",
    "A==QR.round(5)"
   ]
  },
  {
   "cell_type": "code",
   "execution_count": 23,
   "id": "f309a3b2-9891-4e66-af7e-27ca7e699e70",
   "metadata": {},
   "outputs": [
    {
     "data": {
      "text/plain": [
       "(1.111052298468932e-16, True)"
      ]
     },
     "execution_count": 23,
     "metadata": {},
     "output_type": "execute_result"
    }
   ],
   "source": [
    "getOrthogonalCheck(Q)"
   ]
  },
  {
   "cell_type": "markdown",
   "id": "4662a59a-d424-4214-8484-be09d970a025",
   "metadata": {},
   "source": [
    "### Built-In Function: numpy.linalg.qr"
   ]
  },
  {
   "cell_type": "code",
   "execution_count": 24,
   "id": "3dc716f8-a9a5-4ce8-a9d6-5edd2521fa67",
   "metadata": {},
   "outputs": [
    {
     "name": "stdout",
     "output_type": "stream",
     "text": [
      "[[-0.70710173 -0.70711183]\n",
      " [-0.70711183  0.70710173]]\n",
      "[[-9.89956565e-01 -1.00000455e+00]\n",
      " [ 0.00000000e+00 -7.14283864e-06]]\n"
     ]
    }
   ],
   "source": [
    "Q,R=np.linalg.qr(A, mode='reduced')\n",
    "print(Q)\n",
    "print(R)"
   ]
  },
  {
   "cell_type": "code",
   "execution_count": 25,
   "id": "9225b63d-c7af-4678-bb0e-111f14ae21b9",
   "metadata": {},
   "outputs": [
    {
     "data": {
      "text/plain": [
       "(2.3411870786352597e-16, True)"
      ]
     },
     "execution_count": 25,
     "metadata": {},
     "output_type": "execute_result"
    }
   ],
   "source": [
    "getOrthogonalCheck(Q)"
   ]
  },
  {
   "cell_type": "markdown",
   "id": "bc429c61-762d-4d35-9140-e761dbad95a8",
   "metadata": {},
   "source": [
    "### Comparison\n",
    "Once again the magnitudes of the values for Q and R remained roughly the same accross the various methods. There were some small differences that weren't horribly significant like $7.14000000e-06$ vs $7.14283864e-06$. The major difference was once again in the sign of the values, although every QR pair still equaled A (with some rounding).\n",
    "\n",
    "$$Q_{CGS}=\\begin{bmatrix} 0.70710173 & 0.70711183 \\\\ 0.70711183 & -0.70710173 \\end{bmatrix}\n",
    "    R_{CGS}=\\begin{bmatrix} 9.89956565e-01 & 1.00000455e+00 \\\\ 0.00000000e+00 & 7.14283864e-06 \\end{bmatrix}$$\n",
    "$$Q_{MGS}=\\begin{bmatrix} 0.70710173 & 0.70711183 \\\\ 0.70711183 & -0.70710173 \\end{bmatrix}\n",
    "    R_{MGS}=\\begin{bmatrix} 9.89956565e-01 & 1.00000455e+00 \\\\ 0.00000000e+00 & 7.14286165e-06 \\end{bmatrix}$$\n",
    "$$Q_{H}=\\begin{bmatrix} -0.70710173 & 0.70711183 \\\\ -0.70711183 & -0.70710173 \\end{bmatrix}\n",
    "    R_{CGS}=\\begin{bmatrix} -9.89956560e-01 & -1.00000455e+00 \\\\ 0.00000000e+00 & 7.14000000e-06 \\end{bmatrix}$$\n",
    "$$Q_{np}=\\begin{bmatrix} -0.70710173 & -0.70711183 \\\\ -0.70711183 & 0.70710173 \\end{bmatrix}\n",
    "    R_{CGS}=\\begin{bmatrix} -9.89956565e-01 & -1.00000455e+00 \\\\ 0.00000000e+00 & -7.14283864e-06 \\end{bmatrix}$$\n",
    "    \n",
    "Every Q value was orthogonal by our test, which checked that the frobineous norm of $Q^*Q - I$ was equal to zero after rounding to the first 10 decimal places.\n"
   ]
  },
  {
   "cell_type": "code",
   "execution_count": null,
   "id": "3390e45c-52e6-46fa-9e42-4b9d4c68a484",
   "metadata": {},
   "outputs": [],
   "source": []
  }
 ],
 "metadata": {
  "kernelspec": {
   "display_name": "Python 3 (ipykernel)",
   "language": "python",
   "name": "python3"
  },
  "language_info": {
   "codemirror_mode": {
    "name": "ipython",
    "version": 3
   },
   "file_extension": ".py",
   "mimetype": "text/x-python",
   "name": "python",
   "nbconvert_exporter": "python",
   "pygments_lexer": "ipython3",
   "version": "3.9.7"
  }
 },
 "nbformat": 4,
 "nbformat_minor": 5
}
