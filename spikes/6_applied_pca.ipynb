{
 "cells": [
  {
   "cell_type": "code",
   "execution_count": 1,
   "id": "33fb05fc-67fc-4706-9ff4-40d4790c3a30",
   "metadata": {},
   "outputs": [],
   "source": [
    "import numpy as np\n",
    "import os\n",
    "import sys\n",
    "\n",
    "import matplotlib.pyplot as plt\n",
    "import scipy.io as sio\n",
    "\n",
    "sys.path.append('lib/')\n",
    "from NumericPCA import NumericPCA"
   ]
  },
  {
   "cell_type": "code",
   "execution_count": 2,
   "id": "776c3da8-8db1-4ca1-b743-48a2b303f541",
   "metadata": {},
   "outputs": [
    {
     "name": "stdout",
     "output_type": "stream",
     "text": [
      "retrieving file from:  /Users/annastephens/Source/public-cmse823/spikes/data/usps.mat\n"
     ]
    },
    {
     "data": {
      "text/plain": [
       "(3000, 256)"
      ]
     },
     "execution_count": 2,
     "metadata": {},
     "output_type": "execute_result"
    }
   ],
   "source": [
    "# grab the data\n",
    "mat_fname = os.path.join(os.getcwd(), 'data/usps.mat')\n",
    "print(\"retrieving file from: \",mat_fname)\n",
    "mat_contents = sio.loadmat(mat_fname)\n",
    "\n",
    "data = mat_contents['A']\n",
    "data.shape"
   ]
  },
  {
   "cell_type": "code",
   "execution_count": null,
   "id": "a5e48b20-6854-49d5-9335-f7ac492e3b9c",
   "metadata": {},
   "outputs": [],
   "source": [
    "nPCA = NumericPCA(n_components=2)\n",
    "fit = nPCA.fit(data)"
   ]
  },
  {
   "cell_type": "code",
   "execution_count": null,
   "id": "7fcdb7d5-af4f-438f-a8ae-a1257ec012f6",
   "metadata": {},
   "outputs": [],
   "source": [
    "pVals = [10,50,100,200]\n",
    "results = []\n",
    "\n",
    "# nPCA = NumericPCA(n_components=pVals[0])\n",
    "# fit = nPCA.fit(data)\n",
    "\n",
    "for p in pVals:\n",
    "    print('Processing p='+str(p)+'...')\n",
    "    # pc,adjustedData,means = pca(data,p)\n",
    "    # data_reconstructed=reconstructData(adjustedData,pc,means)\n",
    "    # error = getReconstructionError(data,data_reconstructed)\n",
    "    \n",
    "    # nPCA = NumericPCA(n_components=p)\n",
    "    # fit = nPCA.fit(data)\n",
    "    nPCA.change_n_cnt(p)\n",
    "    data_trans = nPCA.transform(data)\n",
    "    data_reconstructed = nPCA.inverse_transform(data_trans)\n",
    "    error = 0\n",
    "    print('complete, error='+str(error))\n",
    "    \n",
    "    r = {'p': p, 'error': error, 'data':data_reconstructed }\n",
    "    results.append(r)"
   ]
  },
  {
   "cell_type": "code",
   "execution_count": null,
   "id": "e740f546-f0e7-47e7-8213-524cb8272a9b",
   "metadata": {},
   "outputs": [],
   "source": [
    "# display the image results of various reconstructions\n",
    "def displayImages(imageNumber,ogData,results):\n",
    "    plt.figure(figsize=(18,5))\n",
    "\n",
    "    plt.subplot(1, 5, 1) # row 1, col 2 index 1\n",
    "    img = np.reshape(data[imageNumber,:],(16,16))\n",
    "    plt.imshow(img)\n",
    "    plt.title('original')\n",
    "\n",
    "    plt.subplot(1, 5, 2) # row 1, col 2 index 1\n",
    "    img_0 = np.reshape(results[0]['data'][imageNumber,:],(16,16))\n",
    "    plt.imshow(img_0)\n",
    "    plt.title(\"p=\"+str(results[0]['p']))\n",
    "\n",
    "    plt.subplot(1, 5, 3) # index 2\n",
    "    img_1 = np.reshape(results[1]['data'][imageNumber,:],(16,16))\n",
    "    plt.imshow(img_1)\n",
    "    plt.title(\"p=\"+str(results[1]['p']))\n",
    "\n",
    "    plt.subplot(1, 5, 4)\n",
    "    img_2 = np.reshape(results[2]['data'][imageNumber,:],(16,16))\n",
    "    plt.imshow(img_2)\n",
    "    plt.title(\"p=\"+str(results[2]['p']))\n",
    "\n",
    "    plt.subplot(1, 5, 5)\n",
    "    img_3 = np.reshape(results[3]['data'][imageNumber,:],(16,16))\n",
    "    plt.imshow(img_3)\n",
    "    plt.title(\"p=\"+str(results[3]['p']))\n",
    "\n",
    "    plt.show()"
   ]
  },
  {
   "cell_type": "code",
   "execution_count": null,
   "id": "421c49a5-5d18-4d04-bb5e-8f201a2008d1",
   "metadata": {},
   "outputs": [],
   "source": [
    "imagesToShow = [0,1,2]\n",
    "for i in imagesToShow:\n",
    "    displayImages(i,data,results)"
   ]
  }
 ],
 "metadata": {
  "kernelspec": {
   "display_name": "Python 3 (ipykernel)",
   "language": "python",
   "name": "python3"
  },
  "language_info": {
   "codemirror_mode": {
    "name": "ipython",
    "version": 3
   },
   "file_extension": ".py",
   "mimetype": "text/x-python",
   "name": "python",
   "nbconvert_exporter": "python",
   "pygments_lexer": "ipython3",
   "version": "3.9.7"
  }
 },
 "nbformat": 4,
 "nbformat_minor": 5
}
