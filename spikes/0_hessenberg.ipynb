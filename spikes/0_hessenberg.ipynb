{
 "cells": [
  {
   "cell_type": "markdown",
   "id": "888e1c0d-3a94-48bb-bb1a-f52a18cf03c0",
   "metadata": {},
   "source": [
    "First lets try to get to tridiagonal form using algorithm 26.1 from the text. This should result in tridiagonal for a hermitian matrix"
   ]
  },
  {
   "cell_type": "code",
   "execution_count": 1,
   "id": "b089b8c5-7f46-48a5-a099-6b8caa5f566b",
   "metadata": {},
   "outputs": [],
   "source": [
    "import numpy as np\n",
    "from numpy import linalg as LA"
   ]
  },
  {
   "cell_type": "code",
   "execution_count": 2,
   "id": "8e0b3691-fab1-4b04-80dd-661c75f8be84",
   "metadata": {},
   "outputs": [],
   "source": [
    "# following is based off from algorithm 26.1\n",
    "def hessenberg(matrix):\n",
    "    A=matrix.copy().astype(float)\n",
    "    m = A.shape[0]\n",
    "\n",
    "    for k in range(m-2):\n",
    "        x=A[k+1:m,k]\n",
    "        v = getSign(x[0])*np.linalg.norm(x,2)*getE1(x.shape[0]) + x\n",
    "        v = v/np.linalg.norm(v,2)\n",
    "\n",
    "        A[k+1:m,k:m]=A[k+1:m,k:m]-2*np.outer(v,np.matmul(v,A[k+1:m,k:m]))\n",
    "        A[0:m,k+1:m]=A[0:m,k+1:m]-2*np.outer(np.matmul(A[0:m,k+1:m],v.T),v)\n",
    "        \n",
    "    return(A.round(8))\n",
    "\n",
    "# function that returns an e1 vector of length m\n",
    "def getE1(m):\n",
    "    e1=np.zeros((m))\n",
    "    e1[0]=1\n",
    "    return(e1)\n",
    "\n",
    "# a sign function that checks and corrects for x=0 according to notes in book\n",
    "def getSign(x):\n",
    "    sign=np.sign(x)\n",
    "    if sign==0: sign=1\n",
    "    return(sign)"
   ]
  },
  {
   "cell_type": "code",
   "execution_count": 3,
   "id": "a5bfb69e-dd85-4801-89c5-8f692618b65a",
   "metadata": {},
   "outputs": [],
   "source": [
    "A = np.array(\n",
    "    [[1,2,3,4],\n",
    "    [2,5,6,7],\n",
    "    [3,6,8,9],\n",
    "    [4,7,9,10]]\n",
    ")\n",
    "\n",
    "# A[0,0:A.shape[0]]\n",
    "H=hessenberg(A)\n",
    "# A.shape"
   ]
  },
  {
   "cell_type": "code",
   "execution_count": 4,
   "id": "f192b675-e6b5-409a-b76a-cfcfde36495d",
   "metadata": {},
   "outputs": [
    {
     "name": "stdout",
     "output_type": "stream",
     "text": [
      "[24.06253512 -0.80548492  0.5580362   0.18491359]\n",
      "[24.06253513 -0.80548492  0.5580362   0.18491359]\n"
     ]
    }
   ],
   "source": [
    "# check that they have the same eigenvalues\n",
    "print(np.linalg.eig(A)[0])\n",
    "print(np.linalg.eig(H)[0])"
   ]
  },
  {
   "cell_type": "code",
   "execution_count": null,
   "id": "f7f74a11-a2a5-4ca2-b33c-a0c33629859f",
   "metadata": {},
   "outputs": [],
   "source": []
  },
  {
   "cell_type": "code",
   "execution_count": null,
   "id": "59c87581-1a94-4972-a4b0-b0a2ab26b9b6",
   "metadata": {},
   "outputs": [],
   "source": []
  }
 ],
 "metadata": {
  "kernelspec": {
   "display_name": "Python 3 (ipykernel)",
   "language": "python",
   "name": "python3"
  },
  "language_info": {
   "codemirror_mode": {
    "name": "ipython",
    "version": 3
   },
   "file_extension": ".py",
   "mimetype": "text/x-python",
   "name": "python",
   "nbconvert_exporter": "python",
   "pygments_lexer": "ipython3",
   "version": "3.9.7"
  }
 },
 "nbformat": 4,
 "nbformat_minor": 5
}
