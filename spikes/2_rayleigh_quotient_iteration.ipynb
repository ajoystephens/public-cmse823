{
 "cells": [
  {
   "cell_type": "code",
   "execution_count": 1,
   "id": "e904ad3d-dec1-42f6-9599-f41e37be6d2c",
   "metadata": {},
   "outputs": [],
   "source": [
    "import numpy as np\n",
    "\n",
    "import sys\n",
    "sys.path.append('lib/')\n",
    "from pca import *"
   ]
  },
  {
   "cell_type": "code",
   "execution_count": 2,
   "id": "02eb6302-3e27-46fd-b307-af66271cf8b5",
   "metadata": {},
   "outputs": [],
   "source": [
    "A = np.array(\n",
    "    [[1,2,3,4],\n",
    "    [2,1,2,2],\n",
    "    [3,2,1,3],\n",
    "    [4,2,3,1]]\n",
    ")\n",
    "\n",
    "# A[0,0:A.shape[0]]\n",
    "H = hessenberg(A)"
   ]
  },
  {
   "cell_type": "code",
   "execution_count": 3,
   "id": "8a1f3ca3-c3bc-4a38-adc7-a6dad95b14a1",
   "metadata": {},
   "outputs": [],
   "source": [
    "# RAYLEIGH QUOTIENT ITERATION\n",
    "# based off Alg 27.3 in book, pdf page 221, book page 207\n",
    "\n",
    "def rayleigh(matrix,k_max):\n",
    "    A=matrix.copy().astype(float)\n",
    "    m = A.shape[0]\n",
    "    eig = np.zeros(k_max)\n",
    "    V = np.zeros((m,k_max))\n",
    "    \n",
    "    V[:,0] = _getSomeUnitVector(m)\n",
    "    eig[0] = _getRayleighQuoient(A,V[:,0])\n",
    "    \n",
    "    for i in range(1,k_max):\n",
    "        w = solveSystem(A-eig[i-1]*np.identity(m),V[:,i-1])\n",
    "        # print(w)\n",
    "        # if np.isnan(w).any(): break\n",
    "        if not np.isfinite(w).all():\n",
    "            # print('bad detected')\n",
    "            i-=1\n",
    "            break\n",
    "        V[:,i] = w/np.linalg.norm(w,2)\n",
    "        eig[i] = _getRayleighQuoient(A,V[:,i])\n",
    "    print(eig)\n",
    "    return(eig[i],V[:,i])\n",
    "\n",
    "def _getRayleighQuoient(A,v):\n",
    "    x = np.matmul(A,v)\n",
    "    x = np.dot(v,x)\n",
    "    return(x)\n",
    "\n",
    "def _getSomeUnitVector(n):\n",
    "    v = np.random.randint(0,10,n)\n",
    "    v = v/np.linalg.norm(v,2)\n",
    "    return(v)"
   ]
  },
  {
   "cell_type": "code",
   "execution_count": 4,
   "id": "95ca6f5a-5350-4173-b538-f327650d7cdd",
   "metadata": {},
   "outputs": [
    {
     "name": "stdout",
     "output_type": "stream",
     "text": [
      "[-0.69368405 -0.45228029 -0.44658655 -0.4465865   0.          0.\n",
      "  0.          0.          0.          0.        ]\n"
     ]
    },
    {
     "name": "stderr",
     "output_type": "stream",
     "text": [
      "/Users/annastephens/Source/public-cmse823/spikes/lib/pca.py:73: RuntimeWarning: divide by zero encountered in double_scalars\n",
      "  x[i] = (y[i]-c)/U[i,i]\n",
      "/Users/annastephens/Source/public-cmse823/spikes/lib/pca.py:72: RuntimeWarning: invalid value encountered in double_scalars\n",
      "  c+=U[i,j]*x[j]\n"
     ]
    },
    {
     "data": {
      "text/plain": [
       "(-0.44658650201764216, array([0.28017269, 0.07526121, 0.76811704, 0.57081979]))"
      ]
     },
     "execution_count": 4,
     "metadata": {},
     "output_type": "execute_result"
    }
   ],
   "source": [
    "rayleigh(H,10)"
   ]
  },
  {
   "cell_type": "code",
   "execution_count": 5,
   "id": "3306761c-1099-448f-abe0-44882a1cf0b8",
   "metadata": {},
   "outputs": [
    {
     "name": "stdout",
     "output_type": "stream",
     "text": [
      "[7.27272727 9.03690257 9.15810371 9.15812238 0.         0.\n",
      " 0.         0.         0.         0.        ]\n"
     ]
    },
    {
     "data": {
      "text/plain": [
       "(9.158122375540982, array([0.54735089, 0.39053071, 0.49829686, 0.54735089]))"
      ]
     },
     "execution_count": 5,
     "metadata": {},
     "output_type": "execute_result"
    }
   ],
   "source": [
    "rayleigh(A,10)"
   ]
  },
  {
   "cell_type": "code",
   "execution_count": 6,
   "id": "fcef9564-1829-4422-9fba-db22e3fee608",
   "metadata": {},
   "outputs": [
    {
     "data": {
      "text/plain": [
       "array([ 9.15812238, -3.        , -0.4465865 , -1.71153588])"
      ]
     },
     "execution_count": 6,
     "metadata": {},
     "output_type": "execute_result"
    }
   ],
   "source": [
    "np.linalg.eig(A)[0]"
   ]
  },
  {
   "cell_type": "code",
   "execution_count": null,
   "id": "4a61ce44-7a86-493a-b82d-9ec8fba158ff",
   "metadata": {},
   "outputs": [],
   "source": []
  }
 ],
 "metadata": {
  "kernelspec": {
   "display_name": "Python 3 (ipykernel)",
   "language": "python",
   "name": "python3"
  },
  "language_info": {
   "codemirror_mode": {
    "name": "ipython",
    "version": 3
   },
   "file_extension": ".py",
   "mimetype": "text/x-python",
   "name": "python",
   "nbconvert_exporter": "python",
   "pygments_lexer": "ipython3",
   "version": "3.9.7"
  }
 },
 "nbformat": 4,
 "nbformat_minor": 5
}
