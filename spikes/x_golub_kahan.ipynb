{
 "cells": [
  {
   "cell_type": "code",
   "execution_count": 1,
   "id": "a8ff17e5-cdb6-42f4-a463-ca38f16a62fb",
   "metadata": {},
   "outputs": [],
   "source": [
    "import numpy as np"
   ]
  },
  {
   "cell_type": "code",
   "execution_count": 10,
   "id": "085a34c2-f008-485d-a28b-f27c298b7c75",
   "metadata": {},
   "outputs": [],
   "source": [
    "# for inspiration, this will be similar to full hessenberg\n",
    "def fullHessenberg(matrix):\n",
    "    A=matrix.copy().astype(float)\n",
    "    m = A.shape[0]\n",
    "    Q=np.identity(A.shape[0])\n",
    "\n",
    "    for k in range(m-2):\n",
    "        x=A[k+1:m,k]\n",
    "        v = _getSign(x[0])*np.linalg.norm(x,2)*_getE1(x.shape[0]) + x\n",
    "        v = v/np.linalg.norm(v,2)\n",
    "\n",
    "        q_k=_getHV(v)\n",
    "        P=np.identity(A.shape[0])\n",
    "        P[k+1:,k+1:] = q_k\n",
    "        Q=np.matmul(Q,P)\n",
    "\n",
    "        A[k+1:m,k:m]=A[k+1:m,k:m]-2*np.outer(v,np.matmul(v,A[k+1:m,k:m]))\n",
    "        A[0:m,k+1:m]=A[0:m,k+1:m]-2*np.outer(np.matmul(A[0:m,k+1:m],v.T),v)   \n",
    "    return(A.round(8),Q)\n",
    "\n",
    "def _getHV(v):\n",
    "    I=np.identity(v.shape[0])\n",
    "    return(I-2*np.outer(v,v))\n",
    "\n",
    "# function that returns an e1 vector of length m\n",
    "def _getE1(m):\n",
    "    e1=np.zeros((m))\n",
    "    e1[0]=1\n",
    "    return(e1)\n",
    "\n",
    "# a sign function that checks and corrects for x=0 according to notes in book\n",
    "def _getSign(x):\n",
    "    sign=np.sign(x)\n",
    "    if sign==0: sign=1\n",
    "    return(sign)"
   ]
  },
  {
   "cell_type": "code",
   "execution_count": 20,
   "id": "38d0141a-4355-4e8f-95f6-e1cb87007b0b",
   "metadata": {},
   "outputs": [
    {
     "data": {
      "text/plain": [
       "array([[8, 6, 6, 7],\n",
       "       [8, 2, 1, 2],\n",
       "       [3, 2, 8, 7],\n",
       "       [4, 7, 7, 7],\n",
       "       [9, 0, 6, 6],\n",
       "       [3, 2, 6, 5]])"
      ]
     },
     "execution_count": 20,
     "metadata": {},
     "output_type": "execute_result"
    }
   ],
   "source": [
    "A = np.random.randint(10,size=(6,4))\n",
    "A"
   ]
  },
  {
   "cell_type": "code",
   "execution_count": 21,
   "id": "9c97b756-103e-4097-9c8d-6675c4bb55a2",
   "metadata": {},
   "outputs": [
    {
     "data": {
      "text/plain": [
       "array([[-15,  -6, -11, -12],\n",
       "       [  0,  -2,  -4,  -4],\n",
       "       [  0,   0,   5,   4],\n",
       "       [  0,   4,   4,   3],\n",
       "       [  0,  -4,   0,  -1],\n",
       "       [  0,   0,   3,   2]])"
      ]
     },
     "execution_count": 21,
     "metadata": {},
     "output_type": "execute_result"
    }
   ],
   "source": [
    "k=0\n",
    "x=A[k:,k]\n",
    "u = _getSign(x[0])*np.linalg.norm(x,2)*_getE1(x.shape[0]) + x\n",
    "u = u/np.linalg.norm(u,2)\n",
    "\n",
    "A[k:,k:]=A[k:,k:]-2*np.outer(u,np.matmul(u,A[k:,k:]))\n",
    "A"
   ]
  },
  {
   "cell_type": "code",
   "execution_count": 22,
   "id": "a2137a67-286e-42f8-80f0-dda2af67917e",
   "metadata": {},
   "outputs": [
    {
     "data": {
      "text/plain": [
       "array([[-15,  17,   0,   0],\n",
       "       [  0,   5,   0,   0],\n",
       "       [  0,  -5,   2,   0],\n",
       "       [  0,  -5,   0,  -2],\n",
       "       [  0,   2,   2,   2],\n",
       "       [  0,  -3,   1,   0]])"
      ]
     },
     "execution_count": 22,
     "metadata": {},
     "output_type": "execute_result"
    }
   ],
   "source": [
    "k=0\n",
    "x=A[k,k+1:]\n",
    "v = _getSign(x[0])*np.linalg.norm(x,2)*_getE1(x.shape[0]) + x\n",
    "v = v/np.linalg.norm(v,2)\n",
    "\n",
    "# A[k:,k:]=A[k:,k:]-2*np.outer(v,np.matmul(v,A[k:,k:]))\n",
    "A[:,k+1:]=A[:,k+1:]-2*np.outer(np.matmul(A[:,k+1:],v.T),v) \n",
    "A"
   ]
  },
  {
   "cell_type": "code",
   "execution_count": null,
   "id": "6ad2274a-7571-432d-b1af-02f1d4b54d5e",
   "metadata": {},
   "outputs": [],
   "source": []
  }
 ],
 "metadata": {
  "kernelspec": {
   "display_name": "Python 3 (ipykernel)",
   "language": "python",
   "name": "python3"
  },
  "language_info": {
   "codemirror_mode": {
    "name": "ipython",
    "version": 3
   },
   "file_extension": ".py",
   "mimetype": "text/x-python",
   "name": "python",
   "nbconvert_exporter": "python",
   "pygments_lexer": "ipython3",
   "version": "3.9.7"
  }
 },
 "nbformat": 4,
 "nbformat_minor": 5
}
