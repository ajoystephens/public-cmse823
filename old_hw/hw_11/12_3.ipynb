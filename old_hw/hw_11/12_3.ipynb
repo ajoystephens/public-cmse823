{
 "cells": [
  {
   "cell_type": "code",
   "execution_count": 1,
   "id": "a27fe652-aa3a-411a-af74-154225794b14",
   "metadata": {},
   "outputs": [],
   "source": [
    "# LIBRARY\n",
    "import numpy as np\n",
    "import pandas as pd\n",
    "from matplotlib import pyplot as plt "
   ]
  },
  {
   "cell_type": "code",
   "execution_count": 2,
   "id": "efefdec5-05fa-485f-b831-958f1ff2aa65",
   "metadata": {},
   "outputs": [
    {
     "data": {
      "text/plain": [
       "array([[-0.62822521, -3.27084344, -1.26876954,  3.92562021],\n",
       "       [ 2.77449565,  2.83388108,  0.80152244, -2.25182882],\n",
       "       [ 4.18615231,  2.16925671, -5.70582942,  1.59632061],\n",
       "       [ 1.56592784,  0.5748814 ,  2.16124334, -1.4462856 ]])"
      ]
     },
     "execution_count": 2,
     "metadata": {},
     "output_type": "execute_result"
    }
   ],
   "source": [
    "def getM(m):\n",
    "    std = np.sqrt(m)\n",
    "    M=np.random.normal(0,std,(m,m))\n",
    "    return(M)\n",
    "\n",
    "getM(4)"
   ]
  },
  {
   "cell_type": "code",
   "execution_count": 3,
   "id": "80d2fa67-0389-4bd8-9827-a18ccc4a8295",
   "metadata": {},
   "outputs": [
    {
     "data": {
      "text/plain": [
       "array([[ 4.        +0.j        ,  1.46165625+2.77018002j],\n",
       "       [ 4.        +0.j        ,  1.46165625-2.77018002j],\n",
       "       [ 4.        +0.j        , -2.30002582+0.j        ],\n",
       "       [ 4.        +0.j        ,  0.42364138+0.j        ]])"
      ]
     },
     "execution_count": 3,
     "metadata": {},
     "output_type": "execute_result"
    }
   ],
   "source": [
    "m=4\n",
    "M=getM(m)\n",
    "eVal, eVect = np.linalg.eig(M)\n",
    "mVect = np.ones(eVal.shape[0])*m\n",
    "np.column_stack((mVect,eVal))"
   ]
  },
  {
   "cell_type": "code",
   "execution_count": 4,
   "id": "7409b97d-ae80-48a4-b0d5-6049f7e5bc29",
   "metadata": {},
   "outputs": [
    {
     "name": "stdout",
     "output_type": "stream",
     "text": [
      "Calculating results for m=8\n",
      " max: (11.15101458819534+0j)\n",
      " min: (-11.207728301592432+0j)\n",
      "Calculating results for m=16\n",
      " max: (22.014208936335468+0j)\n",
      " min: (-23.423128467295882+0j)\n",
      "Calculating results for m=32\n",
      " max: (40.68663094935268+0j)\n",
      " min: (-41.0303448355469+0j)\n",
      "Calculating results for m=64\n",
      " max: (75.40797913305101+0j)\n",
      " min: (-77.6360795390899+0j)\n",
      "Calculating results for m=128\n",
      " max: (146.79241914290589+0j)\n",
      " min: (-148.54915407803432+0j)\n",
      "Calculating results for m=256\n",
      " max: (272.9981228794284+0j)\n",
      " min: (-285.5588525164718+0j)\n"
     ]
    }
   ],
   "source": [
    "n = 100 # number of matrices to generate for each m value\n",
    "mVals = [8,16,32,64,128,256]\n",
    "# allEvals = np.array([])\n",
    "allEvals=np.empty((0,2))\n",
    "# allEvals = []\n",
    "for m in mVals:\n",
    "    print('Calculating results for m='+str(m))\n",
    "    for i in range(n):\n",
    "        M=getM(m)\n",
    "        eVal, eVect = np.linalg.eig(M)\n",
    "        mVect = np.ones(eVal.shape[0])*m\n",
    "        e = np.column_stack((mVect,eVal))\n",
    "        # if allEvals==0\n",
    "        allEvals = np.append(allEvals,e,axis=0)\n",
    "        # allEvals.append(e)\n",
    "    \n",
    "    h = allEvals[np.where(allEvals[:,0] == m)]\n",
    "    print(' max: '+str(np.max(h)))\n",
    "    print(' min: '+str(np.min(h)))\n",
    "# allEvals"
   ]
  },
  {
   "cell_type": "code",
   "execution_count": 5,
   "id": "5ac0f4ff-b447-42be-95b2-493cc67d78a0",
   "metadata": {},
   "outputs": [
    {
     "name": "stderr",
     "output_type": "stream",
     "text": [
      "/usr/local/lib/python3.9/site-packages/numpy/lib/histograms.py:852: ComplexWarning: Casting complex values to real discards the imaginary part\n",
      "  indices = f_indices.astype(np.intp)\n",
      "/usr/local/lib/python3.9/site-packages/matplotlib/transforms.py:788: ComplexWarning: Casting complex values to real discards the imaginary part\n",
      "  points = np.asarray(points, float)\n"
     ]
    },
    {
     "data": {
      "image/png": "[encoded data removed]",
      "text/plain": [
       "<Figure size 1080x576 with 6 Axes>"
      ]
     },
     "metadata": {
      "needs_background": "light"
     },
     "output_type": "display_data"
    }
   ],
   "source": [
    "plt.figure(figsize=(15,8))\n",
    "\n",
    "plt.subplot(2, 3, 1) # row 1, col 2 index 1\n",
    "m=8\n",
    "h = allEvals[np.where(allEvals[:,0] == m)]\n",
    "plt.hist(h[:,1])\n",
    "plt.title(\"Hist. of Eigenvalues, m=\"+str(m))\n",
    "\n",
    "plt.subplot(2, 3, 2) # index 2\n",
    "m=16\n",
    "h = allEvals[np.where(allEvals[:,0] == m)]\n",
    "plt.hist(h[:,1])\n",
    "plt.title(\"Hist. of Eigenvalues, m=\"+str(m))\n",
    "\n",
    "\n",
    "plt.subplot(2, 3, 3) # index 2\n",
    "m=32\n",
    "h = allEvals[np.where(allEvals[:,0] == m)]\n",
    "plt.hist(h[:,1])\n",
    "plt.title(\"Hist. of Eigenvalues, m=\"+str(m))\n",
    "\n",
    "\n",
    "\n",
    "plt.subplot(2, 3, 4) # row 1, col 2 index 1\n",
    "m=64\n",
    "h = allEvals[np.where(allEvals[:,0] == m)]\n",
    "plt.hist(h[:,1])\n",
    "plt.title(\"Hist. of Eigenvalues, m=\"+str(m))\n",
    "\n",
    "plt.subplot(2, 3, 5) # index 2\n",
    "m=128\n",
    "h = allEvals[np.where(allEvals[:,0] == m)]\n",
    "plt.hist(h[:,1])\n",
    "plt.title(\"Hist. of Eigenvalues, m=\"+str(m))\n",
    "\n",
    "\n",
    "plt.subplot(2, 3, 6) # index 2\n",
    "m=256\n",
    "h = allEvals[np.where(allEvals[:,0] == m)]\n",
    "plt.hist(h[:,1])\n",
    "plt.title(\"Hist. of Eigenvalues, m=\"+str(m))\n",
    "\n",
    "\n",
    "plt.show()"
   ]
  },
  {
   "cell_type": "code",
   "execution_count": 6,
   "id": "1c7c229f-f451-4ce1-bd99-7c4b0781cddc",
   "metadata": {},
   "outputs": [],
   "source": [
    "n = 100 # number of matrices to generate for each m value\n",
    "mVals = [8,16,32,64,128,256,512]\n",
    "# allEvals = np.array([])\n",
    "allVals=np.empty((0,4))\n",
    "# allEvals = []\n",
    "for m in mVals:\n",
    "    for i in range(n):\n",
    "        M=getM(m)\n",
    "        l2 = np.linalg.norm(M,2)\n",
    "        eVal, eVect = np.linalg.eig(M)\n",
    "        sr=np.max(eVal) # rho(M), spectral radius, is it's largest eigenvalue\n",
    "        \n",
    "        U,s,V = np.linalg.svd(M)\n",
    "        svMin = np.min(s) # smallest singular value\n",
    "        \n",
    "        # mVect = np.ones(eVal.shape[0])*m\n",
    "        # e = np.column_stack((mVect,eVal))\n",
    "        # if allEvals==0\n",
    "        allVals = np.append(allVals,[[m,l2,sr,svMin]],axis=0)\n",
    "        # allEvals.append(e)\n",
    "    \n",
    "# allNorms"
   ]
  },
  {
   "cell_type": "code",
   "execution_count": 9,
   "id": "c3f9f08f-d011-4d25-bc2f-0daac4a707d3",
   "metadata": {},
   "outputs": [
    {
     "name": "stderr",
     "output_type": "stream",
     "text": [
      "/usr/local/lib/python3.9/site-packages/matplotlib/cbook/__init__.py:1333: ComplexWarning: Casting complex values to real discards the imaginary part\n",
      "  return np.asarray(x, float)\n",
      "/usr/local/lib/python3.9/site-packages/matplotlib/cbook/__init__.py:1333: ComplexWarning: Casting complex values to real discards the imaginary part\n",
      "  return np.asarray(x, float)\n"
     ]
    },
    {
     "data": {
      "image/png": "[encoded data removed]",
      "text/plain": [
       "<Figure size 1080x360 with 2 Axes>"
      ]
     },
     "metadata": {
      "needs_background": "light"
     },
     "output_type": "display_data"
    }
   ],
   "source": [
    "# x = allNorms[:,0] # m\n",
    "# y = allNorms[:,1] - allNorms[:,2] #l2 - rho(a)\n",
    "# plt.plot(x, y, 'o');\n",
    "\n",
    "plt.figure(figsize=(15,5))\n",
    "\n",
    "plt.subplot(1, 2, 1) # row 1, col 2 index 1\n",
    "plt.plot(allVals[:,0], allVals[:,1],'o')\n",
    "# plt.title(\"Results from (a)\")\n",
    "plt.xlabel('m ')\n",
    "plt.ylabel('l2-norm ')\n",
    "\n",
    "plt.subplot(1, 2, 2) # index 2\n",
    "plt.plot(allVals[:,0], allVals[:,1] - allVals[:,2],'o')\n",
    "# plt.title(\"Results from (b)\")\n",
    "plt.xlabel('m ')\n",
    "plt.ylabel('l2-norm - rho')\n",
    "\n",
    "plt.show()"
   ]
  },
  {
   "cell_type": "code",
   "execution_count": 8,
   "id": "b63f220c-75fc-4521-8bc4-11c726389602",
   "metadata": {},
   "outputs": [
    {
     "name": "stderr",
     "output_type": "stream",
     "text": [
      "/usr/local/lib/python3.9/site-packages/numpy/lib/histograms.py:852: ComplexWarning: Casting complex values to real discards the imaginary part\n",
      "  indices = f_indices.astype(np.intp)\n",
      "/usr/local/lib/python3.9/site-packages/matplotlib/transforms.py:788: ComplexWarning: Casting complex values to real discards the imaginary part\n",
      "  points = np.asarray(points, float)\n"
     ]
    },
    {
     "data": {
      "image/png": "[encoded data removed]",
      "text/plain": [
       "<Figure size 1080x576 with 6 Axes>"
      ]
     },
     "metadata": {
      "needs_background": "light"
     },
     "output_type": "display_data"
    }
   ],
   "source": [
    "plt.figure(figsize=(15,8))\n",
    "\n",
    "plt.subplot(2, 3, 1) # row 1, col 2 index 1\n",
    "m=8\n",
    "h = allVals[np.where(allVals[:,0] == m)][:,3]\n",
    "plt.hist(h)\n",
    "plt.title(\"Hist. of Smallest SV, m=\"+str(m))\n",
    "\n",
    "plt.subplot(2, 3, 2) # index 2\n",
    "m=16\n",
    "h = allVals[np.where(allVals[:,0] == m)][:,3]\n",
    "plt.hist(h)\n",
    "plt.title(\"Hist. of Smallest SV, m=\"+str(m))\n",
    "\n",
    "\n",
    "plt.subplot(2, 3, 3) # index 2\n",
    "m=32\n",
    "h = allVals[np.where(allVals[:,0] == m)][:,3]\n",
    "plt.hist(h)\n",
    "plt.title(\"Hist. of Smallest SV, m=\"+str(m))\n",
    "\n",
    "\n",
    "\n",
    "plt.subplot(2, 3, 4) # row 1, col 2 index 1\n",
    "m=64\n",
    "h = allVals[np.where(allVals[:,0] == m)][:,3]\n",
    "plt.hist(h)\n",
    "plt.title(\"Hist. of Smallest SV, m=\"+str(m))\n",
    "\n",
    "plt.subplot(2, 3, 5) # index 2\n",
    "m=128\n",
    "h = allVals[np.where(allVals[:,0] == m)][:,3]\n",
    "plt.hist(h)\n",
    "plt.title(\"Hist. of Smallest SV, m=\"+str(m))\n",
    "\n",
    "\n",
    "plt.subplot(2, 3, 6) # index 2\n",
    "m=256\n",
    "h = allVals[np.where(allVals[:,0] == m)][:,3]\n",
    "plt.hist(h)\n",
    "plt.title(\"Hist. of Smallest SV, m=\"+str(m))\n",
    "\n",
    "\n",
    "plt.show()"
   ]
  },
  {
   "cell_type": "code",
   "execution_count": null,
   "id": "ecca5408-7251-4d55-93f7-b999321857a4",
   "metadata": {},
   "outputs": [],
   "source": []
  }
 ],
 "metadata": {
  "kernelspec": {
   "display_name": "Python 3 (ipykernel)",
   "language": "python",
   "name": "python3"
  },
  "language_info": {
   "codemirror_mode": {
    "name": "ipython",
    "version": 3
   },
   "file_extension": ".py",
   "mimetype": "text/x-python",
   "name": "python",
   "nbconvert_exporter": "python",
   "pygments_lexer": "ipython3",
   "version": "3.9.7"
  }
 },
 "nbformat": 4,
 "nbformat_minor": 5
}
