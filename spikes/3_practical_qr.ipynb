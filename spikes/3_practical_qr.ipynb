{
 "cells": [
  {
   "cell_type": "code",
   "execution_count": 2,
   "id": "230149a0-bbe1-4019-a832-b0a29fa97664",
   "metadata": {},
   "outputs": [],
   "source": [
    "# LIBRARIES\n",
    "import numpy as np\n",
    "\n",
    "import sys\n",
    "sys.path.append('lib/')\n",
    "from pca import *"
   ]
  },
  {
   "cell_type": "code",
   "execution_count": 37,
   "id": "becbeb69-e380-459f-9e91-72ae2b8e68b5",
   "metadata": {},
   "outputs": [],
   "source": [
    "def practical_qr_algorithm(matrix,k_max,zero_cutoff):\n",
    "    m = matrix.shape[0]\n",
    "    A = np.ones((k_max,m,m))\n",
    "    A[0] = hessenberg(matrix)\n",
    "    shift = np.ones(k_max)\n",
    "    \n",
    "    for k in range(1,k_max):\n",
    "        # print('k:',k)\n",
    "        shift[k] = A[k-1,m-1,m-1]\n",
    "        Q,R = householder(A[k-1,:,:]-shift[k]*np.identity(m))\n",
    "        A[k,:,:] = np.matmul(R,Q)+shift[k]*np.identity(m)\n",
    "        for j in range(m-1):\n",
    "            # print('  j:',j)\n",
    "            if A[k,j,j+1] < zero_cutoff:\n",
    "                A[k,j,j+1]=0\n",
    "                A[k,j+1,j]=0\n",
    "                # print('shift:',shift[k],',',A[k,j,j+1])\n",
    "                # break\n",
    "                A_1 = A[k,:j+1,:j+1]\n",
    "                A_2 = A[k,j+1:,j+1:]\n",
    "                eig=[shift[k]]\n",
    "                if A_1.shape[0]>0: \n",
    "                    e_temp = practical_qr_algorithm(A_1,k_max,zero_cutoff)\n",
    "                    # print('eig:',eig,'etemp:',e_temp)\n",
    "                    if np.abs(e_temp)[0]>0:eig=eig+e_temp\n",
    "                if A_2.shape[0]>0: \n",
    "                    e_temp = practical_qr_algorithm(A_2,k_max,zero_cutoff)\n",
    "                    # print('eig:',eig,'etemp:',e_temp)\n",
    "                    if np.abs(e_temp)[0]>0:eig=eig+e_temp\n",
    "                return(eig)\n",
    "        \n",
    "    # return(shift[k])\n",
    "    return(0)\n",
    "\n",
    "                "
   ]
  },
  {
   "cell_type": "code",
   "execution_count": 38,
   "id": "156f7118-ba5c-450d-b632-2a318e7b3284",
   "metadata": {},
   "outputs": [
    {
     "ename": "IndexError",
     "evalue": "invalid index to scalar variable.",
     "output_type": "error",
     "traceback": [
      "\u001b[0;31m---------------------------------------------------------------------------\u001b[0m",
      "\u001b[0;31mIndexError\u001b[0m                                Traceback (most recent call last)",
      "\u001b[0;32m/var/folders/1f/r7ysvjds2vl7pyf4gfsp958c0000gn/T/ipykernel_7561/3719352085.py\u001b[0m in \u001b[0;36m<module>\u001b[0;34m\u001b[0m\n\u001b[1;32m      7\u001b[0m \u001b[0;34m\u001b[0m\u001b[0m\n\u001b[1;32m      8\u001b[0m \u001b[0;31m# A[0,0:A.shape[0]]\u001b[0m\u001b[0;34m\u001b[0m\u001b[0;34m\u001b[0m\u001b[0m\n\u001b[0;32m----> 9\u001b[0;31m \u001b[0mprint\u001b[0m\u001b[0;34m(\u001b[0m\u001b[0mpractical_qr_algorithm\u001b[0m\u001b[0;34m(\u001b[0m\u001b[0mA\u001b[0m\u001b[0;34m,\u001b[0m\u001b[0;36m10\u001b[0m\u001b[0;34m,\u001b[0m\u001b[0;36m1e-12\u001b[0m\u001b[0;34m)\u001b[0m\u001b[0;34m)\u001b[0m\u001b[0;34m\u001b[0m\u001b[0;34m\u001b[0m\u001b[0m\n\u001b[0m\u001b[1;32m     10\u001b[0m \u001b[0mprint\u001b[0m\u001b[0;34m(\u001b[0m\u001b[0mnp\u001b[0m\u001b[0;34m.\u001b[0m\u001b[0mlinalg\u001b[0m\u001b[0;34m.\u001b[0m\u001b[0meig\u001b[0m\u001b[0;34m(\u001b[0m\u001b[0mA\u001b[0m\u001b[0;34m)\u001b[0m\u001b[0;34m[\u001b[0m\u001b[0;36m0\u001b[0m\u001b[0;34m]\u001b[0m\u001b[0;34m)\u001b[0m\u001b[0;34m\u001b[0m\u001b[0;34m\u001b[0m\u001b[0m\n\u001b[1;32m     11\u001b[0m \u001b[0;34m\u001b[0m\u001b[0m\n",
      "\u001b[0;32m/var/folders/1f/r7ysvjds2vl7pyf4gfsp958c0000gn/T/ipykernel_7561/2526858052.py\u001b[0m in \u001b[0;36mpractical_qr_algorithm\u001b[0;34m(matrix, k_max, zero_cutoff)\u001b[0m\n\u001b[1;32m     21\u001b[0m                 \u001b[0meig\u001b[0m\u001b[0;34m=\u001b[0m\u001b[0;34m[\u001b[0m\u001b[0mshift\u001b[0m\u001b[0;34m[\u001b[0m\u001b[0mk\u001b[0m\u001b[0;34m]\u001b[0m\u001b[0;34m]\u001b[0m\u001b[0;34m\u001b[0m\u001b[0;34m\u001b[0m\u001b[0m\n\u001b[1;32m     22\u001b[0m                 \u001b[0;32mif\u001b[0m \u001b[0mA_1\u001b[0m\u001b[0;34m.\u001b[0m\u001b[0mshape\u001b[0m\u001b[0;34m[\u001b[0m\u001b[0;36m0\u001b[0m\u001b[0;34m]\u001b[0m\u001b[0;34m>\u001b[0m\u001b[0;36m0\u001b[0m\u001b[0;34m:\u001b[0m\u001b[0;34m\u001b[0m\u001b[0;34m\u001b[0m\u001b[0m\n\u001b[0;32m---> 23\u001b[0;31m                     \u001b[0me_temp\u001b[0m \u001b[0;34m=\u001b[0m \u001b[0mpractical_qr_algorithm\u001b[0m\u001b[0;34m(\u001b[0m\u001b[0mA_1\u001b[0m\u001b[0;34m,\u001b[0m\u001b[0mk_max\u001b[0m\u001b[0;34m,\u001b[0m\u001b[0mzero_cutoff\u001b[0m\u001b[0;34m)\u001b[0m\u001b[0;34m\u001b[0m\u001b[0;34m\u001b[0m\u001b[0m\n\u001b[0m\u001b[1;32m     24\u001b[0m                     \u001b[0;31m# print('eig:',eig,'etemp:',e_temp)\u001b[0m\u001b[0;34m\u001b[0m\u001b[0;34m\u001b[0m\u001b[0m\n\u001b[1;32m     25\u001b[0m                     \u001b[0;32mif\u001b[0m \u001b[0mnp\u001b[0m\u001b[0;34m.\u001b[0m\u001b[0mabs\u001b[0m\u001b[0;34m(\u001b[0m\u001b[0me_temp\u001b[0m\u001b[0;34m)\u001b[0m\u001b[0;34m[\u001b[0m\u001b[0;36m0\u001b[0m\u001b[0;34m]\u001b[0m\u001b[0;34m>\u001b[0m\u001b[0;36m0\u001b[0m\u001b[0;34m:\u001b[0m\u001b[0meig\u001b[0m\u001b[0;34m=\u001b[0m\u001b[0meig\u001b[0m\u001b[0;34m+\u001b[0m\u001b[0me_temp\u001b[0m\u001b[0;34m\u001b[0m\u001b[0;34m\u001b[0m\u001b[0m\n",
      "\u001b[0;32m/var/folders/1f/r7ysvjds2vl7pyf4gfsp958c0000gn/T/ipykernel_7561/2526858052.py\u001b[0m in \u001b[0;36mpractical_qr_algorithm\u001b[0;34m(matrix, k_max, zero_cutoff)\u001b[0m\n\u001b[1;32m     23\u001b[0m                     \u001b[0me_temp\u001b[0m \u001b[0;34m=\u001b[0m \u001b[0mpractical_qr_algorithm\u001b[0m\u001b[0;34m(\u001b[0m\u001b[0mA_1\u001b[0m\u001b[0;34m,\u001b[0m\u001b[0mk_max\u001b[0m\u001b[0;34m,\u001b[0m\u001b[0mzero_cutoff\u001b[0m\u001b[0;34m)\u001b[0m\u001b[0;34m\u001b[0m\u001b[0;34m\u001b[0m\u001b[0m\n\u001b[1;32m     24\u001b[0m                     \u001b[0;31m# print('eig:',eig,'etemp:',e_temp)\u001b[0m\u001b[0;34m\u001b[0m\u001b[0;34m\u001b[0m\u001b[0m\n\u001b[0;32m---> 25\u001b[0;31m                     \u001b[0;32mif\u001b[0m \u001b[0mnp\u001b[0m\u001b[0;34m.\u001b[0m\u001b[0mabs\u001b[0m\u001b[0;34m(\u001b[0m\u001b[0me_temp\u001b[0m\u001b[0;34m)\u001b[0m\u001b[0;34m[\u001b[0m\u001b[0;36m0\u001b[0m\u001b[0;34m]\u001b[0m\u001b[0;34m>\u001b[0m\u001b[0;36m0\u001b[0m\u001b[0;34m:\u001b[0m\u001b[0meig\u001b[0m\u001b[0;34m=\u001b[0m\u001b[0meig\u001b[0m\u001b[0;34m+\u001b[0m\u001b[0me_temp\u001b[0m\u001b[0;34m\u001b[0m\u001b[0;34m\u001b[0m\u001b[0m\n\u001b[0m\u001b[1;32m     26\u001b[0m                 \u001b[0;32mif\u001b[0m \u001b[0mA_2\u001b[0m\u001b[0;34m.\u001b[0m\u001b[0mshape\u001b[0m\u001b[0;34m[\u001b[0m\u001b[0;36m0\u001b[0m\u001b[0;34m]\u001b[0m\u001b[0;34m>\u001b[0m\u001b[0;36m0\u001b[0m\u001b[0;34m:\u001b[0m\u001b[0;34m\u001b[0m\u001b[0;34m\u001b[0m\u001b[0m\n\u001b[1;32m     27\u001b[0m                     \u001b[0me_temp\u001b[0m \u001b[0;34m=\u001b[0m \u001b[0mpractical_qr_algorithm\u001b[0m\u001b[0;34m(\u001b[0m\u001b[0mA_2\u001b[0m\u001b[0;34m,\u001b[0m\u001b[0mk_max\u001b[0m\u001b[0;34m,\u001b[0m\u001b[0mzero_cutoff\u001b[0m\u001b[0;34m)\u001b[0m\u001b[0;34m\u001b[0m\u001b[0;34m\u001b[0m\u001b[0m\n",
      "\u001b[0;31mIndexError\u001b[0m: invalid index to scalar variable."
     ]
    }
   ],
   "source": [
    "A = np.array(\n",
    "    [[1,2,3,4],\n",
    "    [2,1,2,2],\n",
    "    [3,2,1,3],\n",
    "    [4,2,3,1]]\n",
    ")\n",
    "\n",
    "# A[0,0:A.shape[0]]\n",
    "print(practical_qr_algorithm(A,10,1e-12))\n",
    "print(np.linalg.eig(A)[0])\n",
    "\n",
    "# j=2\n",
    "# print(A[:j,:j])\n",
    "# print(A[j:,j:])"
   ]
  },
  {
   "cell_type": "code",
   "execution_count": null,
   "id": "3c79aa3e-b8ea-4b01-b721-1cecc6a3c888",
   "metadata": {},
   "outputs": [],
   "source": []
  },
  {
   "cell_type": "code",
   "execution_count": null,
   "id": "cb4d09b1-2c04-4463-a152-669ee5e9cce4",
   "metadata": {},
   "outputs": [],
   "source": []
  }
 ],
 "metadata": {
  "kernelspec": {
   "display_name": "Python 3 (ipykernel)",
   "language": "python",
   "name": "python3"
  },
  "language_info": {
   "codemirror_mode": {
    "name": "ipython",
    "version": 3
   },
   "file_extension": ".py",
   "mimetype": "text/x-python",
   "name": "python",
   "nbconvert_exporter": "python",
   "pygments_lexer": "ipython3",
   "version": "3.9.7"
  }
 },
 "nbformat": 4,
 "nbformat_minor": 5
}
