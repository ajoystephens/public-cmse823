{
 "cells": [
  {
   "cell_type": "code",
   "execution_count": 1,
   "id": "93500d7c-7f85-42ae-ab31-4509437b1e95",
   "metadata": {},
   "outputs": [],
   "source": [
    "# pca following pg 562 prml"
   ]
  },
  {
   "cell_type": "code",
   "execution_count": 2,
   "id": "94d8a294-88e0-46e1-b043-f9dbcac581cf",
   "metadata": {},
   "outputs": [],
   "source": [
    "# LIBRARIES\n",
    "import numpy as np\n",
    "\n",
    "\n",
    "import sys\n",
    "sys.path.append('lib/')\n",
    "from pca import *"
   ]
  },
  {
   "cell_type": "code",
   "execution_count": 3,
   "id": "6c0ccc38-ce7e-4ee8-8c21-f71b1c81d664",
   "metadata": {},
   "outputs": [],
   "source": [
    "# randomly generate some data matrix X\n",
    "n = 10 # number of data points\n",
    "p = 8 # number of features\n",
    "\n",
    "X = np.random.randint(10,size=(n,p))"
   ]
  },
  {
   "cell_type": "code",
   "execution_count": 4,
   "id": "c0d5588f-1d7c-4f4c-80c1-aa069191528e",
   "metadata": {},
   "outputs": [],
   "source": [
    "# calculate S\n",
    "X_mean_array = np.mean(X,axis=0)\n",
    "ones = np.ones(n)\n",
    "X_mean = np.outer(ones,X_mean_array)\n",
    "X_diff = X-X_mean # subtract the mean to center the matrix\n",
    "S = np.matmul(X_diff.T,X_diff)/n\n",
    "D = np.matmul(X_diff.T,X_diff)"
   ]
  },
  {
   "cell_type": "code",
   "execution_count": 5,
   "id": "7ceaf0f0-83b5-4764-9487-67529b0aec81",
   "metadata": {},
   "outputs": [
    {
     "data": {
      "text/plain": [
       "(8, 8)"
      ]
     },
     "execution_count": 5,
     "metadata": {},
     "output_type": "execute_result"
    }
   ],
   "source": [
    "# S.round(5)\n",
    "S.shape"
   ]
  },
  {
   "cell_type": "code",
   "execution_count": 6,
   "id": "1f737388-4a0f-49e6-8cb2-4992c0da51a4",
   "metadata": {},
   "outputs": [],
   "source": [
    "# Get the first eigenvalues of S\n",
    "eigVals = practical_qr_algorithm(S,5,1e-5)\n",
    "# eigVals"
   ]
  },
  {
   "cell_type": "code",
   "execution_count": 7,
   "id": "511238ce-22f2-4856-ba5a-b03dbd3b9419",
   "metadata": {},
   "outputs": [
    {
     "name": "stdout",
     "output_type": "stream",
     "text": [
      "18.82274769\n",
      "[-0.55091891  0.5384739  -0.2999916   0.34101658  0.23828141  0.20711603\n",
      "  0.05857333 -0.31167455]\n",
      "15.13616879\n",
      "[-0.08720562  0.4116883  -0.15142287  0.82537533 -0.23993364 -0.19456305\n",
      "  0.04241532  0.14667176]\n",
      "11.16190773\n",
      "[-0.18418868  0.41244292 -0.32866426  0.64950869 -0.34968379 -0.20928338\n",
      " -0.23388698 -0.21284322]\n"
     ]
    }
   ],
   "source": [
    "eigVals\n",
    "# get largest two eigenvalues\n",
    "# H = hessenberg(A)\n",
    "pc_cnt= 3\n",
    "i = np.argsort(np.abs(eigVals))[::-1][:pc_cnt]\n",
    "largest_eigvals = np.take(eigVals,i)\n",
    "largest_eigvect = np.zeros((D.shape[0],pc_cnt))\n",
    "\n",
    "for i in range(largest_eigvals.shape[0]):\n",
    "    print(largest_eigvals[i])\n",
    "    largest_eigvect[:,i] = getEigenvector(D, largest_eigvals[i])\n",
    "    print(largest_eigvect[:,i])\n",
    "\n",
    "# print(largest_eigvect)"
   ]
  },
  {
   "cell_type": "code",
   "execution_count": 8,
   "id": "0c8cf670-e57c-4ea5-9f38-9471035a052d",
   "metadata": {},
   "outputs": [
    {
     "name": "stdout",
     "output_type": "stream",
     "text": [
      "18.82274769\n",
      "[ 0.05891271  0.28542553  0.73015242  0.05742428  0.27194605 -0.39454432\n",
      " -0.13561085 -0.36142949]\n",
      "15.13616879\n",
      "[-0.3533586  -0.15336709  0.06144034 -0.27033944 -0.45864187 -0.57583615\n",
      "  0.48248729  0.00492761]\n",
      "11.16190773\n",
      "[ 0.01160582  0.8115832   0.0610285  -0.3938799  -0.25532585  0.2727809\n",
      "  0.11913643  0.16893183]\n"
     ]
    }
   ],
   "source": [
    "eigVals\n",
    "# get largest two eigenvalues\n",
    "# H = hessenberg(A)\n",
    "pc_cnt = 3\n",
    "i = np.argsort(np.abs(eigVals))[::-1][:pc_cnt]\n",
    "largest_eigvals = np.take(eigVals,i)\n",
    "largest_eigvect = np.zeros((S.shape[0],pc_cnt))\n",
    "\n",
    "for i in range(largest_eigvals.shape[0]):\n",
    "    print(largest_eigvals[i])\n",
    "    largest_eigvect[:,i] = getEigenvector(S, largest_eigvals[i])\n",
    "    print(largest_eigvect[:,i])\n",
    "\n",
    "# print(largest_eigvect/n)"
   ]
  },
  {
   "cell_type": "code",
   "execution_count": 9,
   "id": "ecd0c1d3-496f-41b6-bdce-8e876201ee5b",
   "metadata": {},
   "outputs": [
    {
     "name": "stdout",
     "output_type": "stream",
     "text": [
      "[20.91416425 18.45302031]\n",
      "[0.27196572 0.23996125]\n",
      "[[-0.05891274 -0.28542557 -0.73015241 -0.05742431 -0.2719461   0.39454427\n",
      "   0.13561087  0.36142949]\n",
      " [-0.60667978 -0.10946558  0.31494601 -0.02957254 -0.08684303  0.08551149\n",
      "  -0.52121303  0.48308846]]\n",
      "[[-5.28225121  1.6994279 ]\n",
      " [-2.55303261  0.2459055 ]\n",
      " [ 8.65208309  4.63571263]\n",
      " [-1.1355754   6.64180487]\n",
      " [ 2.71038519 -2.75301992]\n",
      " [-1.08904001 -4.10971281]\n",
      " [ 2.6483918  -6.38353286]\n",
      " [ 4.81705924 -0.74037739]\n",
      " [-4.86874119 -3.58465516]\n",
      " [-3.89927889  4.34844725]]\n"
     ]
    },
    {
     "data": {
      "text/plain": [
       "array([[ 3.18018337,  5.32166069,  8.69207647,  5.25307324,  5.58890415,\n",
       "         3.46123869,  1.89790535,  2.21181263],\n",
       "       [ 3.90122026,  4.70178259,  6.24154986,  5.13933409,  4.97293208,\n",
       "         4.41374337,  3.02561187,  2.49605283],\n",
       "       [ 0.57788891,  1.02302332, -0.55734012,  4.36607029,  1.54452043,\n",
       "         9.21003647,  2.25712271,  8.66657728],\n",
       "       [-0.06254886,  3.59707324,  7.22095303,  4.8687946 ,  4.03202086,\n",
       "         5.51991588, -0.11579159,  6.09814886],\n",
       "       [ 5.41052529,  3.52774769,  1.4539531 ,  4.92577179,  3.8020019 ,\n",
       "         6.23395209,  5.30246755,  2.94966098],\n",
       "       [ 6.45743801,  4.76071195,  3.80082755,  5.18407202,  4.95306008,\n",
       "         4.61889783,  5.49435019,  0.92103398],\n",
       "       [ 7.61673629,  3.94285839,  0.35580218,  5.0366952 ,  4.13414549,\n",
       "         5.89904238,  7.18633121,  1.17339583],\n",
       "       [ 4.06538581,  2.70613398,  0.54963369,  4.74527853,  3.05431614,\n",
       "         7.23723233,  4.53913994,  4.6833595 ],\n",
       "       [ 6.36156872,  5.78205956,  6.72595028,  5.38559147,  5.93533748,\n",
       "         3.17253687,  4.70811473, -0.1914122 ],\n",
       "       [ 1.4916022 ,  4.63694859,  8.51659396,  5.09531878,  4.98276136,\n",
       "         4.23340409,  0.70474804,  3.9913703 ]])"
      ]
     },
     "execution_count": 9,
     "metadata": {},
     "output_type": "execute_result"
    }
   ],
   "source": [
    "from sklearn.decomposition import PCA\n",
    "\n",
    "\n",
    "pca = PCA(n_components=2)\n",
    "pca.fit(X)\n",
    "\n",
    "print(pca.explained_variance_)\n",
    "print(pca.explained_variance_ratio_)\n",
    "\n",
    "print(pca.components_)\n",
    "\n",
    "X_trans = pca.transform(X)\n",
    "print(X_trans)\n",
    "pca.inverse_transform(X_trans)"
   ]
  },
  {
   "cell_type": "code",
   "execution_count": 10,
   "id": "067708cf-3e68-47f7-b41d-6f823d2f26fb",
   "metadata": {},
   "outputs": [
    {
     "name": "stdout",
     "output_type": "stream",
     "text": [
      "[18.82274769 15.13616879]\n",
      "[[ 0.05891271  0.28542555  0.73015241  0.0574243   0.27194608 -0.39454429\n",
      "  -0.13561088 -0.36142949]\n",
      " [-0.35335855 -0.15336706  0.06144031 -0.27033944 -0.45864187 -0.57583615\n",
      "   0.48248734  0.00492758]]\n",
      "(8, 8)\n",
      "(2, 8)\n",
      "[[ 5.28225139  1.34347887]\n",
      " [ 2.55303242 -5.65540439]\n",
      " [-8.65208289  1.11327213]\n",
      " [ 1.1355755  -0.71268166]\n",
      " [-2.71038528  1.99910573]\n",
      " [ 1.08904005  4.67687189]\n",
      " [-2.64839183  2.93986191]\n",
      " [-4.81705944 -6.0314042 ]\n",
      " [ 4.86874091 -4.5737567 ]\n",
      " [ 3.8992792   4.90065642]]\n",
      "[[ 3.73646201  5.30164409  8.23939235  4.94013427  5.12031187  2.5422942\n",
      "   3.43188078  1.39745865]\n",
      " [ 6.04879157  5.59605342  5.816633    6.67548496  7.58809242  7.64930194\n",
      "   0.42512     2.34939132]\n",
      " [ 2.9968981   1.35973523 -1.94893942  4.20219882  1.43650679  8.17256753\n",
      "   5.21045629  6.43260368]\n",
      " [ 4.21873199  4.43342415  5.08535581  5.25787559  4.93568095  5.36235304\n",
      "   3.00214373  2.88605773]\n",
      " [ 3.03392275  2.91978983  2.44383131  4.30392089  2.64604776  5.31820968\n",
      "   4.83210094  4.28946394]\n",
      " [ 2.31154563  3.59356176  5.38251366  3.79819444  2.45115088  2.27721357\n",
      "   5.6088458   2.92943447]\n",
      " [ 2.70515071  2.79320333  2.54689633  4.05315733  2.23143646  4.7520291\n",
      "   5.2775969   4.27169333]\n",
      " [ 5.74746222  3.5501069   0.41224109  6.35391016  5.75627411 10.77364385\n",
      "   1.2431695   5.01130713]\n",
      " [ 5.80300677  6.09112665  7.57390991  6.51605087  7.72175133  6.11280054\n",
      "   0.63296605  1.51775588]\n",
      " [ 2.39802826  4.36135463  7.44816595  3.89907267  3.11274743  1.03958655\n",
      "   5.33572     1.91483387]]\n"
     ]
    }
   ],
   "source": [
    "from NumericPCA import NumericPCA\n",
    "n_components=2\n",
    "nPCA = NumericPCA(n_components=n_components)\n",
    "fit = nPCA.fit(X)\n",
    "# print(fit)\n",
    "\n",
    "print(nPCA.explained_variance_)\n",
    "# print(pca.explained_variance_ratio_)\n",
    "\n",
    "print(nPCA.components_)\n",
    "\n",
    "X_diff = X-X_mean # subtract the mean to center the matrix\n",
    "S = np.matmul(X_diff.T,X_diff)/n\n",
    "\n",
    "print(S.shape)\n",
    "print(nPCA.components_.shape)\n",
    "# X_trans = np.matmul(X_diff,nPCA.components_.T)\n",
    "X_trans = nPCA.transform(X)\n",
    "print(X_trans)\n",
    "# print(np.matmul(X_trans,nPCA.components_))\n",
    "X_trans_back = nPCA.inverse_transform(X_trans)\n",
    "print(X_trans_back)\n",
    "# print(X_diff)"
   ]
  },
  {
   "cell_type": "code",
   "execution_count": null,
   "id": "02f67916-1ec9-4e9c-9cc1-c5bbf9f4c219",
   "metadata": {},
   "outputs": [],
   "source": []
  },
  {
   "cell_type": "code",
   "execution_count": null,
   "id": "d1703bab-eb9e-4bc9-8ea0-712ed679360c",
   "metadata": {},
   "outputs": [],
   "source": []
  }
 ],
 "metadata": {
  "kernelspec": {
   "display_name": "Python 3 (ipykernel)",
   "language": "python",
   "name": "python3"
  },
  "language_info": {
   "codemirror_mode": {
    "name": "ipython",
    "version": 3
   },
   "file_extension": ".py",
   "mimetype": "text/x-python",
   "name": "python",
   "nbconvert_exporter": "python",
   "pygments_lexer": "ipython3",
   "version": "3.9.7"
  }
 },
 "nbformat": 4,
 "nbformat_minor": 5
}
