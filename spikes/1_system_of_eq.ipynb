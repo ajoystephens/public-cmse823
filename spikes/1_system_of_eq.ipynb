{
 "cells": [
  {
   "cell_type": "markdown",
   "id": "b4edada9-c430-4a71-95d4-607dc3592e5e",
   "metadata": {},
   "source": [
    "# System of Eq\n",
    "solving system of eq, using QR factorization, householder alg, borrowing work from HW6"
   ]
  },
  {
   "cell_type": "code",
   "execution_count": null,
   "id": "7e420535-fffd-4421-81ca-4cbaf54c6dba",
   "metadata": {},
   "outputs": [],
   "source": [
    "def reducedHouseholder(matrix):\n",
    "    Q,R=householder(matrix) # get full QR from householder algorithm\n",
    "    m=matrix.shape[0]\n",
    "    n=matrix.shape[1]\n",
    "    Q=Q[:m,:n]\n",
    "    R=R[:n,:n]\n",
    "    return(Q,R)\n",
    "\n",
    "# implementation of Householder using Algorithm 10.1\n",
    "#  Notes: \n",
    "#   - Alg 10.1 only returned R, made modifications derived from class notes\n",
    "#    to get Q\n",
    "#   - This returns full QR and question asked for reduced\n",
    "def householder(matrix):\n",
    "    A=matrix.copy().astype(float)\n",
    "    n=matrix.shape[1]\n",
    "    v=np.zeros(matrix.shape, float)\n",
    "    q_star=np.identity(A.shape[0])\n",
    "    for k in range(n):\n",
    "        x=A[k:,k]\n",
    "        v[k:,k]=getSign(x[0])*np.linalg.norm(x,2)*getE1(x.shape[0])+x\n",
    "        v[k:,k]=v[k:,k]/np.linalg.norm(v[k:,k],2)\n",
    "        q_k=np.identity(A.shape[0])\n",
    "        q_k[k:,k:]=getHV(v[k:,k])\n",
    "        q_star=np.matmul(q_k,q_star)\n",
    "        # print(v[k:,k][np.newaxis].T.shape)\n",
    "        # print(v[k:,k][np.newaxis].shape)\n",
    "        A[k:,k:]=A[k:,k:]-2*np.matmul(v[k:,k][np.newaxis].T,np.matmul(v[k:,k][np.newaxis],A[k:,k:]))\n",
    "    \n",
    "    Q=q_star.T\n",
    "    R=A.round(8)\n",
    "    return(Q,R)\n",
    "\n",
    "# function that returns an e1 vector of length m\n",
    "def getE1(m):\n",
    "    e1=np.zeros((m))\n",
    "    e1[0]=1\n",
    "    return(e1)\n",
    "\n",
    "# a sign function that checks and corrects for x=0 according to notes in book\n",
    "def getSign(x):\n",
    "    sign=np.sign(x)\n",
    "    if sign==0: sign=1\n",
    "    return(sign)\n",
    "\n",
    "# calculate some H_v\n",
    "def getHV(v):\n",
    "    I=np.identity(v.shape[0])\n",
    "    return(I-2*np.outer(v,v))"
   ]
  },
  {
   "cell_type": "code",
   "execution_count": null,
   "id": "634273c4-7051-446d-ad50-d47426c30e07",
   "metadata": {},
   "outputs": [],
   "source": [
    "# Solve for x in Ax=b\n",
    "def solveSystem(A,b):\n",
    "    Q,R = householder(A)\n",
    "    # Solve for y in Qy=b, Q^*Qy=y=Q^*b\n",
    "    y = np.matmul(Q.T,hb)\n",
    "    # Solve for x in Rx=y using back sub\n",
    "    x = backwardSub(R,y)\n",
    "    return(x)\n",
    "\n",
    "# FOLLOWING FUNCTION IS BORROWED FROM MY SUBMISSION FOR HW09\n",
    "# Backward Substitution Algorithm\n",
    "def backwardSub(U,y):\n",
    "    n = y.shape[0]\n",
    "    x = np.ones(n) # construct basic y\n",
    "    for i in range(n-1,-1,-1):\n",
    "        # print('i',i)\n",
    "        c=0\n",
    "        for j in range(n-1,i,-1):\n",
    "            # print(' j',j)\n",
    "            c+=U[i,j]*x[j]\n",
    "        x[i] = (y[i]-c)/U[i,i]\n",
    "        # print(i)\n",
    "    \n",
    "    return(x)"
   ]
  }
 ],
 "metadata": {
  "kernelspec": {
   "display_name": "Python 3 (ipykernel)",
   "language": "python",
   "name": "python3"
  },
  "language_info": {
   "codemirror_mode": {
    "name": "ipython",
    "version": 3
   },
   "file_extension": ".py",
   "mimetype": "text/x-python",
   "name": "python",
   "nbconvert_exporter": "python",
   "pygments_lexer": "ipython3",
   "version": "3.9.7"
  }
 },
 "nbformat": 4,
 "nbformat_minor": 5
}
