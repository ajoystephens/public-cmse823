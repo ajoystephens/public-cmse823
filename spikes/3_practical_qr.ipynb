{
 "cells": [
  {
   "cell_type": "code",
   "execution_count": 1,
   "id": "230149a0-bbe1-4019-a832-b0a29fa97664",
   "metadata": {},
   "outputs": [],
   "source": [
    "# LIBRARIES\n",
    "import numpy as np\n",
    "\n",
    "import sys\n",
    "sys.path.append('lib/')\n",
    "from pca import *"
   ]
  },
  {
   "cell_type": "code",
   "execution_count": 2,
   "id": "eb09118c-ff1e-4575-83a5-004b85e292e2",
   "metadata": {},
   "outputs": [],
   "source": [
    "def this_practical_qr_algorithm(matrix,k_max,zero_cutoff):\n",
    "    m = matrix.shape[0]\n",
    "    A = np.ones((k_max,m,m),dtype=float)\n",
    "    A[0] = hessenberg(matrix)\n",
    "    shift = np.ones(k_max)\n",
    "    eig=[]\n",
    "    should_return=False\n",
    "    # print(matrix.round(5))\n",
    "    for k in range(1,k_max):\n",
    "        # print('k:',k)\n",
    "        shift[k] = A[k-1,m-1,m-1]\n",
    "        if m==1: \n",
    "            # print('last:',shift[k])\n",
    "            # eig=eig+[shift[k].round(6)]\n",
    "            eig=_combineEigenvalues(eig,[shift[k].round(6)])\n",
    "            return((list(set(eig))))\n",
    "        Q,R = householder(A[k-1,:,:]-shift[k]*np.identity(m))\n",
    "        A[k,:,:] = np.matmul(R,Q)+shift[k]*np.identity(m)\n",
    "        # print(A[k,:,:].round(5))\n",
    "        for j in range(m-1):\n",
    "            # print('  j:',j,'val:',A[k,j,j+1])\n",
    "            if np.abs(A[k,j,j+1]) < zero_cutoff:\n",
    "                should_return=True\n",
    "                # print('shift:',shift[k],',',A[k,j,j+1])\n",
    "                A[k,j,j+1]=0\n",
    "                A[k,j+1,j]=0\n",
    "                # print('shift:',shift[k],',',A[k,j,j+1])\n",
    "                # break\n",
    "                A_1 = A[k,:j+1,:j+1]\n",
    "                A_2 = A[k,j+1:,j+1:]\n",
    "                # eig=eig+[shift[k].round(6)]\n",
    "                eig=_combineEigenvalues(eig,[shift[k].round(6)])\n",
    "                if A_1.shape[0]>0: \n",
    "                    e_temp = this_practical_qr_algorithm(A_1,k_max,zero_cutoff)\n",
    "                    # print('eig:',eig,'etemp:',e_temp)\n",
    "                    # print(e_temp)\n",
    "                    # if abs(e_temp[0])>0:eig=eig+e_temp\n",
    "                    # if e_temp!=None:eig=eig+e_temp\n",
    "                    if e_temp!=None:eig=_combineEigenvalues(eig,e_temp)\n",
    "                if A_2.shape[0]>0: \n",
    "                    e_temp = this_practical_qr_algorithm(A_2,k_max,zero_cutoff)\n",
    "                    # print('eig:',eig,'etemp:',e_temp)\n",
    "                    # print(e_temp)\n",
    "                    # if abs(e_temp[0])>0:eig=eig+e_temp\n",
    "                    # if e_temp!=None:eig=eig+e_temp\n",
    "                    if e_temp!=None:eig=_combineEigenvalues(eig,e_temp)\n",
    "        # if should_return: return((list(set(eig))))\n",
    "\n",
    "    # print('not found')  \n",
    "    # return(shift[k])\n",
    "    # print(eig)\n",
    "    # eig = [ round(e, 6) % e for e in eig ] # round each value in eig list\n",
    "    # print('hi')\n",
    "    return((list(set(eig))))\n",
    "\n",
    "def _combineEigenvalues(old,new):\n",
    "    # assuming new values will be more accurate\n",
    "    # print('combining')\n",
    "    # print(old)\n",
    "    # print(new)\n",
    "    # if old != []:\n",
    "    for o in old:\n",
    "        should_add = True\n",
    "        for n in new:\n",
    "            p = abs(n*.1)\n",
    "            if o>n-p and o<n+p: should_add = False\n",
    "            # print('o:',o,'n:',n,'p:',p,'should_add:',should_add)\n",
    "        if should_add: new = [o] + new\n",
    "    \n",
    "    # print('returning:',new)\n",
    "    return(new)"
   ]
  },
  {
   "cell_type": "code",
   "execution_count": 3,
   "id": "83dfe968-63b7-4034-826d-a0325da6c7eb",
   "metadata": {},
   "outputs": [
    {
     "name": "stdout",
     "output_type": "stream",
     "text": [
      "[-0.446587, 9.158122, -3.0, -1.711536]\n",
      "[-3.00000002, 9.15812232, -0.44658652, -1.71153587]\n",
      "[ 9.15812238 -3.         -0.4465865  -1.71153588]\n"
     ]
    }
   ],
   "source": [
    "A = np.array(\n",
    "    [[1,2,3,4],\n",
    "    [2,1,2,2],\n",
    "    [3,2,1,3],\n",
    "    [4,2,3,1]]\n",
    ")\n",
    "\n",
    "# A[0,0:A.shape[0]]\n",
    "print(this_practical_qr_algorithm(A,20,1e-8))\n",
    "print(practical_qr_algorithm(A,20,1e-8))\n",
    "print(np.linalg.eig(A)[0])\n",
    "\n",
    "# j=2\n",
    "# print(A[:j,:j])\n",
    "# print(A[j:,j:])"
   ]
  },
  {
   "cell_type": "code",
   "execution_count": 4,
   "id": "07bfcf75-466c-454a-9079-231b07ff8568",
   "metadata": {},
   "outputs": [
    {
     "name": "stdout",
     "output_type": "stream",
     "text": [
      "[[1 2 3 4]\n",
      " [2 1 2 2]\n",
      " [3 2 1 3]\n",
      " [4 2 3 1]]\n",
      "[[1 2 3]\n",
      " [2 1 2]\n",
      " [3 2 1]]\n",
      "[[1]]\n"
     ]
    }
   ],
   "source": [
    "j=2\n",
    "print(A)\n",
    "A_1 = A[:j+1,:j+1]\n",
    "A_2 = A[j+1:,j+1:]\n",
    "\n",
    "print(A_1)\n",
    "print(A_2)"
   ]
  },
  {
   "cell_type": "code",
   "execution_count": 5,
   "id": "cb4d09b1-2c04-4463-a152-669ee5e9cce4",
   "metadata": {},
   "outputs": [
    {
     "name": "stdout",
     "output_type": "stream",
     "text": [
      "[0.0, 17.43253, 0.725884, 6.801586]\n",
      "[6.80158564, 17.4325305, 0.72588375, 0.0]\n",
      "[ 1.74325307e+01  6.80158555e+00  7.25883744e-01  5.46567261e-16\n",
      " -4.78359982e-16]\n"
     ]
    }
   ],
   "source": [
    "# TRY FOR SOME S\n",
    "# randomly generate some data matrix X\n",
    "n = 5 # number of data points\n",
    "p = 3 # number of features\n",
    "\n",
    "X = np.random.randint(10,size=(n,p))\n",
    "\n",
    "X_mean_array = np.mean(X,axis=0)\n",
    "ones = np.ones(n)\n",
    "X_mean = np.outer(ones,X_mean_array)\n",
    "X_diff = X-X_mean\n",
    "S = np.matmul(X_diff,X_diff.T)/n\n",
    "\n",
    "\n",
    "print(this_practical_qr_algorithm(S,5,1e-5))\n",
    "print(practical_qr_algorithm(S,5,1e-5))\n",
    "print(np.linalg.eig(S)[0])"
   ]
  },
  {
   "cell_type": "code",
   "execution_count": 6,
   "id": "bf570e27-9072-4db3-a291-d9e78b6beadb",
   "metadata": {},
   "outputs": [
    {
     "name": "stdout",
     "output_type": "stream",
     "text": [
      "6.80158564\n"
     ]
    }
   ],
   "source": []
  },
  {
   "cell_type": "code",
   "execution_count": null,
   "id": "d8c3cae4-a5aa-4894-9e32-504566938448",
   "metadata": {},
   "outputs": [],
   "source": []
  }
 ],
 "metadata": {
  "kernelspec": {
   "display_name": "Python 3 (ipykernel)",
   "language": "python",
   "name": "python3"
  },
  "language_info": {
   "codemirror_mode": {
    "name": "ipython",
    "version": 3
   },
   "file_extension": ".py",
   "mimetype": "text/x-python",
   "name": "python",
   "nbconvert_exporter": "python",
   "pygments_lexer": "ipython3",
   "version": "3.9.7"
  }
 },
 "nbformat": 4,
 "nbformat_minor": 5
}
