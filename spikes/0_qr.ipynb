{
 "cells": [
  {
   "cell_type": "code",
   "execution_count": 1,
   "id": "f9426be0-d107-45a2-857f-5faf0a02317f",
   "metadata": {},
   "outputs": [],
   "source": [
    "import numpy as np\n",
    "\n",
    "\n",
    "import sys\n",
    "sys.path.append('lib/')\n",
    "from pca import *"
   ]
  },
  {
   "cell_type": "code",
   "execution_count": 2,
   "id": "6e3e8e50-8fe7-40cc-93fb-dd22f55162d4",
   "metadata": {},
   "outputs": [],
   "source": [
    "def this_householder(matrix):\n",
    "    A=matrix.copy().astype(float)\n",
    "    n=matrix.shape[1]\n",
    "    v=np.zeros(matrix.shape, float)\n",
    "    q_star=np.identity(A.shape[0])\n",
    "    for k in range(n):\n",
    "        x=A[k:,k]\n",
    "        v[k:,k]=_getSign(x[0])*np.linalg.norm(x,2)*_getE1(x.shape[0])+x\n",
    "        # if np.linalg.norm(v[k:,k],2) !=0:v[k:,k]=v[k:,k]/np.linalg.norm(v[k:,k],2) # <--- line throws errors\n",
    "        if np.linalg.norm(v[k:,k],2)!=0.0: v[k:,k]=v[k:,k]/np.linalg.norm(v[k:,k],2)\n",
    "        q_k=np.identity(A.shape[0])\n",
    "        q_k[k:,k:]=_getHV(v[k:,k])\n",
    "        q_star=np.matmul(q_k,q_star)\n",
    "        # print(v[k:,k][np.newaxis].T.shape)\n",
    "        # print(v[k:,k][np.newaxis].shape)\n",
    "        A[k:,k:]=A[k:,k:]-2*np.matmul(v[k:,k][np.newaxis].T,np.matmul(v[k:,k][np.newaxis],A[k:,k:]))\n",
    "    \n",
    "    Q=q_star.T\n",
    "    R=A.round(8)\n",
    "    return(Q,R)\n",
    "\n",
    "def _getHV(v):\n",
    "    # print('v:',v)\n",
    "    I=np.identity(v.shape[0])\n",
    "    Hv = I-2*np.outer(v,v)\n",
    "    # print('Hv:',Hv)\n",
    "    return(Hv)\n",
    "\n",
    "# function that returns an e1 vector of length m\n",
    "def _getE1(m):\n",
    "    e1=np.zeros((m))\n",
    "    e1[0]=1\n",
    "    return(e1)\n",
    "\n",
    "# a sign function that checks and corrects for x=0 according to notes in book\n",
    "def _getSign(x):\n",
    "    sign=np.sign(x)\n",
    "    if sign==0: sign=1\n",
    "    return(sign)"
   ]
  },
  {
   "cell_type": "code",
   "execution_count": 3,
   "id": "d6a9fac5-3acc-4da4-8147-b48ba866bd97",
   "metadata": {},
   "outputs": [
    {
     "name": "stdout",
     "output_type": "stream",
     "text": [
      "[[ 7.269329    8.00735523  0.         ...  0.         -0.\n",
      "  -0.        ]\n",
      " [ 8.00735523 15.11341336  6.85508715 ... -0.          0.\n",
      "  -0.        ]\n",
      " [-0.          6.85508715 14.19326462 ... -0.          0.\n",
      "  -0.        ]\n",
      " ...\n",
      " [-0.          0.         -0.         ... -0.          0.\n",
      "   0.        ]\n",
      " [ 0.          0.          0.         ...  0.          0.\n",
      "   0.        ]\n",
      " [-0.          0.         -0.         ... -0.          0.\n",
      "  -0.        ]]\n",
      "[[ 7.269329    8.00735523  0.         ... -0.         -0.\n",
      "  -0.        ]\n",
      " [ 8.00735523 15.11341336  6.85508715 ... -0.         -0.\n",
      "  -0.        ]\n",
      " [ 0.          6.85508715 14.19326462 ... -0.         -0.\n",
      "  -0.        ]\n",
      " ...\n",
      " [-0.         -0.         -0.         ... -0.          0.\n",
      "   0.        ]\n",
      " [-0.         -0.         -0.         ...  0.          0.\n",
      "  -0.        ]\n",
      " [-0.         -0.         -0.         ...  0.         -0.\n",
      "   0.        ]]\n"
     ]
    }
   ],
   "source": [
    "# TRY FOR SOME S\n",
    "# randomly generate some data matrix X\n",
    "n = 100 # number of data points\n",
    "p = 80 # number of features\n",
    "\n",
    "X = np.random.randint(10,size=(n,p))\n",
    "\n",
    "X_mean_array = np.mean(X,axis=0)\n",
    "ones = np.ones(n)\n",
    "X_mean = np.outer(ones,X_mean_array)\n",
    "X_diff = X-X_mean\n",
    "S = np.matmul(X_diff,X_diff.T)/n\n",
    "\n",
    "\n",
    "H,Q = fullHessenberg(S)\n",
    "print(H)\n",
    "print(np.matmul(np.matmul(Q.T,S),Q).round(8))"
   ]
  },
  {
   "cell_type": "code",
   "execution_count": 4,
   "id": "3d31e109-7481-465e-90a6-84722254faa1",
   "metadata": {},
   "outputs": [
    {
     "data": {
      "text/plain": [
       "(array([[-0.67216208,  0.38880827, -0.30639081, ...,  0.        ,\n",
       "          0.        ,  0.        ],\n",
       "        [-0.74040404, -0.35297238,  0.27815121, ...,  0.        ,\n",
       "          0.        ,  0.        ],\n",
       "        [ 0.        , -0.85102211, -0.25534821, ...,  0.        ,\n",
       "          0.        ,  0.        ],\n",
       "        ...,\n",
       "        [ 0.        ,  0.        ,  0.        , ...,  1.        ,\n",
       "          0.        ,  0.        ],\n",
       "        [ 0.        ,  0.        ,  0.        , ...,  0.        ,\n",
       "          1.        ,  0.        ],\n",
       "        [ 0.        ,  0.        ,  0.        , ...,  0.        ,\n",
       "          0.        ,  1.        ]]),\n",
       " array([[-10.81484544, -16.57227282,  -5.0755342 , ...,   0.        ,\n",
       "          -0.        ,  -0.        ],\n",
       "        [  0.        ,  -8.05512226, -14.49843842, ...,  -0.        ,\n",
       "           0.        ,  -0.        ],\n",
       "        [ -0.        ,   0.        ,  -7.26370059, ...,  -0.        ,\n",
       "           0.        ,  -0.        ],\n",
       "        ...,\n",
       "        [ -0.        ,   0.        ,  -0.        , ...,  -0.        ,\n",
       "           0.        ,   0.        ],\n",
       "        [  0.        ,   0.        ,   0.        , ...,   0.        ,\n",
       "           0.        ,   0.        ],\n",
       "        [ -0.        ,   0.        ,  -0.        , ...,  -0.        ,\n",
       "           0.        ,  -0.        ]]))"
      ]
     },
     "execution_count": 4,
     "metadata": {},
     "output_type": "execute_result"
    }
   ],
   "source": [
    "this_householder(H)"
   ]
  },
  {
   "cell_type": "code",
   "execution_count": 5,
   "id": "d859c958-ccd5-44d6-a539-d5014f1fcd4c",
   "metadata": {},
   "outputs": [
    {
     "data": {
      "text/plain": [
       "(array([[-0.67216208,  0.38880827, -0.30639081, ...,  0.        ,\n",
       "          0.        ,  0.        ],\n",
       "        [-0.74040404, -0.35297238,  0.27815121, ...,  0.        ,\n",
       "          0.        ,  0.        ],\n",
       "        [ 0.        , -0.85102211, -0.25534821, ...,  0.        ,\n",
       "          0.        ,  0.        ],\n",
       "        ...,\n",
       "        [ 0.        , -0.        ,  0.        , ...,  1.        ,\n",
       "          0.        ,  0.        ],\n",
       "        [-0.        , -0.        , -0.        , ...,  0.        ,\n",
       "          1.        ,  0.        ],\n",
       "        [ 0.        , -0.        ,  0.        , ...,  0.        ,\n",
       "          0.        ,  1.        ]]),\n",
       " array([[-10.81484544, -16.57227282,  -5.0755342 , ...,   0.        ,\n",
       "          -0.        ,  -0.        ],\n",
       "        [  0.        ,  -8.05512226, -14.49843842, ...,  -0.        ,\n",
       "           0.        ,  -0.        ],\n",
       "        [  0.        ,   0.        ,  -7.26370059, ...,  -0.        ,\n",
       "           0.        ,  -0.        ],\n",
       "        ...,\n",
       "        [  0.        ,   0.        ,   0.        , ...,  -0.        ,\n",
       "           0.        ,   0.        ],\n",
       "        [  0.        ,   0.        ,   0.        , ...,   0.        ,\n",
       "           0.        ,   0.        ],\n",
       "        [  0.        ,   0.        ,   0.        , ...,   0.        ,\n",
       "           0.        ,  -0.        ]]))"
      ]
     },
     "execution_count": 5,
     "metadata": {},
     "output_type": "execute_result"
    }
   ],
   "source": [
    "np.linalg.qr(H)"
   ]
  },
  {
   "cell_type": "code",
   "execution_count": null,
   "id": "6de3f8d7-6650-4d9e-9c86-2ff729680b1b",
   "metadata": {},
   "outputs": [],
   "source": []
  }
 ],
 "metadata": {
  "kernelspec": {
   "display_name": "Python 3 (ipykernel)",
   "language": "python",
   "name": "python3"
  },
  "language_info": {
   "codemirror_mode": {
    "name": "ipython",
    "version": 3
   },
   "file_extension": ".py",
   "mimetype": "text/x-python",
   "name": "python",
   "nbconvert_exporter": "python",
   "pygments_lexer": "ipython3",
   "version": "3.9.7"
  }
 },
 "nbformat": 4,
 "nbformat_minor": 5
}
